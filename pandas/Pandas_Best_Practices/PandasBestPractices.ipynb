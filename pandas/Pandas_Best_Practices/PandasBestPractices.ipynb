{
 "cells": [
  {
   "cell_type": "markdown",
   "metadata": {},
   "source": [
    "https://medium.com/dunder-data/minimally-sufficient-pandas-a8e67f2a2428"
   ]
  },
  {
   "cell_type": "markdown",
   "metadata": {},
   "source": [
    "# Use the brackets for selecting a column of data"
   ]
  },
  {
   "cell_type": "markdown",
   "metadata": {},
   "source": [
    "# Every trace of ix should be removed and replaced with loc or iloc"
   ]
  },
  {
   "cell_type": "markdown",
   "metadata": {},
   "source": [
    "# Use NumPy arrays if your application relies on performance for selecting a single cell of data and not at or iat"
   ]
  },
  {
   "cell_type": "markdown",
   "metadata": {},
   "source": [
    "# Only use read_csv to read in delimitted text files\n"
   ]
  },
  {
   "cell_type": "markdown",
   "metadata": {},
   "source": [
    "# Use only isna and notna"
   ]
  },
  {
   "cell_type": "markdown",
   "metadata": {},
   "source": [
    "# Only use the arithmetic and comparison methods when absolutely necessary, otherwise use the operators"
   ]
  },
  {
   "cell_type": "markdown",
   "metadata": {},
   "source": [
    "# Use the Pandas method over any built-in Python function with the same name.\n"
   ]
  },
  {
   "cell_type": "markdown",
   "metadata": {},
   "source": [
    "# Use df.groupby('grouping column').agg({'aggregating column': 'aggregating function'}) as your primary syntax of choice"
   ]
  },
  {
   "cell_type": "markdown",
   "metadata": {},
   "source": [
    "# Avoid using a MultiIndex. Flatten it after a call to groupby by renaming columns and resetting the index.\n"
   ]
  },
  {
   "cell_type": "markdown",
   "metadata": {},
   "source": [
    "# use pivot_table when comparing groups"
   ]
  },
  {
   "cell_type": "markdown",
   "metadata": {},
   "source": [
    "# Only use crosstab when finding relative frequency"
   ]
  },
  {
   "cell_type": "markdown",
   "metadata": {},
   "source": [
    "# Consider using only pivot_table and not pivot"
   ]
  },
  {
   "cell_type": "markdown",
   "metadata": {},
   "source": [
    "# Use melt over stack because it allows you to rename columns and it avoids a MultiIndex"
   ]
  },
  {
   "cell_type": "markdown",
   "metadata": {},
   "source": [
    "# Use pivot_table over unstack or pivot"
   ]
  },
  {
   "cell_type": "markdown",
   "metadata": {},
   "source": [
    "# Below is list of all the DataFrame attributes and methods that can be considered sufficient to complete nearly any task.\n",
    "\n",
    "# Attributes\n",
    "columns\n",
    "dtypes\n",
    "index\n",
    "shape\n",
    "T\n",
    "values\n",
    "\n",
    "# Aggregation Methods\n",
    "all\n",
    "any\n",
    "count\n",
    "describe\n",
    "idxmax\n",
    "idxmin\n",
    "max\n",
    "mean\n",
    "median\n",
    "min\n",
    "mode\n",
    "nunique\n",
    "sum\n",
    "std\n",
    "var\n",
    "\n",
    "# Non-Aggretaion Statistical Methods\n",
    "abs\n",
    "clip\n",
    "corr\n",
    "cov\n",
    "cummax\n",
    "cummin\n",
    "cumprod\n",
    "cumsum\n",
    "diff\n",
    "nlargest\n",
    "nsmallest\n",
    "pct_change\n",
    "prod\n",
    "quantile\n",
    "rank\n",
    "round\n",
    "\n",
    "# Subset Selection\n",
    "head\n",
    "iloc\n",
    "loc\n",
    "tail\n",
    "\n",
    "# Missing Value Handling\n",
    "dropna\n",
    "fillna\n",
    "interpolate\n",
    "isna\n",
    "notna\n",
    "\n",
    "# Grouping\n",
    "expanding\n",
    "groupby\n",
    "pivot_table\n",
    "resample\n",
    "rolling\n",
    "\n",
    "# Joining Data\n",
    "append\n",
    "merge\n",
    "\n",
    "# Other\n",
    "asfreq\n",
    "astype\n",
    "copy\n",
    "drop\n",
    "drop_duplicates\n",
    "equals\n",
    "isin\n",
    "melt\n",
    "plot\n",
    "rename\n",
    "replace\n",
    "reset_index\n",
    "sample\n",
    "select_dtypes\n",
    "shift\n",
    "sort_index\n",
    "sort_values\n",
    "to_csv\n",
    "to_json\n",
    "to_sql\n",
    "\n",
    "# Functions\n",
    "pd.concat\n",
    "pd.crosstab\n",
    "pd.cut\n",
    "pd.qcut\n",
    "pd.read_csv\n",
    "pd.read_json\n",
    "pd.read_sql\n",
    "pd.to_datetime\n",
    "pd.to_timedelta"
   ]
  },
  {
   "cell_type": "code",
   "execution_count": null,
   "metadata": {},
   "outputs": [],
   "source": []
  }
 ],
 "metadata": {
  "kernelspec": {
   "display_name": "Python 3",
   "language": "python",
   "name": "python3"
  },
  "language_info": {
   "codemirror_mode": {
    "name": "ipython",
    "version": 3
   },
   "file_extension": ".py",
   "mimetype": "text/x-python",
   "name": "python",
   "nbconvert_exporter": "python",
   "pygments_lexer": "ipython3",
   "version": "3.7.4"
  }
 },
 "nbformat": 4,
 "nbformat_minor": 2
}
