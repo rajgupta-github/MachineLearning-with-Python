{
 "cells": [
  {
   "cell_type": "markdown",
   "metadata": {
    "colab_type": "text",
    "id": "l6OCWJOAGooE"
   },
   "source": [
    "<img src=\"https://github.com/insaid2018/Term-1/blob/master/Images/INSAID_Full%20Logo.png?raw=true\" width=\"240\" height=\"360\" />\n",
    "\n",
    "# K-means Clustering"
   ]
  },
  {
   "cell_type": "markdown",
   "metadata": {
    "colab_type": "text",
    "id": "KkNvH46oGooH"
   },
   "source": [
    "## Table of Content\n",
    "1. [Introduction to Clustering](#section1)<br>\n",
    "    - 1.1 [Overview: What is Clustering?](#section101)<br>\n",
    "    - 1.2 [Types of Clustering](#section103)<br>\n",
    "    - 1.3 [Types of Clustering Algorithms](#section103)<br>\n",
    "    - 1.4 [Introduction to K-means Algorithm](#section104)<br>\n",
    "    - 1.5 [Business Cases](#section105)<br>\n",
    "    - 1.6 [Algorithm](#section106)<br>\n",
    "    - 1.7 [Choosing K](#section107)<br>\n",
    "    - 1.8 [How good is K-Means](#section108)<br>\n",
    "2. [Use Case - Women E-commerce Clothing Reviews](#section2)<br>\n",
    "3. [Data loading and description](#section3)<br>\n",
    "4. [Data Interpretation and Visualization](#section4)<br>\n",
    "5. [Train test split](#section5)<br>\n",
    "6. [Conclusions](#section6)"
   ]
  },
  {
   "cell_type": "markdown",
   "metadata": {
    "colab_type": "text",
    "id": "hG-YZJprGooM"
   },
   "source": [
    "## Introduction"
   ]
  },
  {
   "cell_type": "markdown",
   "metadata": {
    "colab_type": "text",
    "id": "hv-W54FjGooR"
   },
   "source": [
    "Have you come across a situation when a Chief Marketing Officer of a company tells you – __“Help me understand our customers better so that we can market our products to them in a better manner!\"__<br>\n",
    "- If the person would have asked me to calculate Life Time Value (LTV) or propensity of Cross-sell, I wouldn’t have blinked. But this question looked very broad to me!<br>\n",
    "- You are _not looking for __specific insights__ for a phenomena_, but what you are looking for are __structures with in data _with out them being tied down_ to a specific outcome__.<br>\n",
    "- The method of __identifying similar groups of data__ in a data set is called __clustering__. Entities in each group are __comparatively more similar__ to entities of that group than those of the other groups. In this article, I will be taking you through the __types of clustering__, __different clustering algorithms__ and a _comparison between two of the __most commonly used__ cluster methods_.![image.png](attachment:image.png)"
   ]
  },
  {
   "cell_type": "markdown",
   "metadata": {
    "colab_type": "text",
    "id": "VyGEq4i3GooU"
   },
   "source": [
    "## Overview : What is Clustering?"
   ]
  },
  {
   "cell_type": "markdown",
   "metadata": {
    "colab_type": "text",
    "id": "KEGTUJRnGooW"
   },
   "source": [
    "Clustering is the task of __dividing the population__ or __data points__ into _a number of groups_ such that _data points in the same groups are more similar to other data points in the same group_ than those in other groups. \n",
    "> __In simple words, the aim is to segregate groups with similar traits and assign them into clusters__. \n",
    "\n",
    "![image.png](attachment:image.png)\n",
    "\n",
    "Let’s understand this with an example.<br>\n",
    "1. Suppose, you are the __head of a rental store__ and wish to __understand preferences__ of your costumers to __scale up your business__. \n",
    "2. Is it possible for you to look at _details of each costumer and devise a unique business strategy_ for each one of them? __Definitely not__. \n",
    "3. But, what you can do is to __cluster__ all of your _costumers into say 10 groups based on their purchasing habits_ and use a __separate strategy__ for _costumers in each of these 10 groups_. \n",
    "4. This is what we call __clustering__."
   ]
  },
  {
   "cell_type": "markdown",
   "metadata": {
    "colab_type": "text",
    "id": "QGit2UkOGooa"
   },
   "source": [
    "## Types of Clustering"
   ]
  },
  {
   "cell_type": "markdown",
   "metadata": {
    "colab_type": "text",
    "id": "aV5M63REGood"
   },
   "source": [
    "Clustering can be divided into two subgroups :\n",
    "\n",
    "1. __Hard Clustering__: In hard clustering, each data point __either belongs to a cluster completely or not__.<br> _For example_, in the above example each customer is put into one group out of the 10 groups.<br><br>\n",
    "\n",
    "2. __Soft Clustering__: In soft clustering, instead of putting each data point into a separate cluster, a __probability or likelihood__ of that data point to be in those clusters is assigned.<br>_For example_, from the above scenario each costumer is assigned a probability to be in either of 10 clusters of the retail store.![image.png](attachment:image.png)\n"
   ]
  },
  {
   "cell_type": "markdown",
   "metadata": {
    "colab_type": "text",
    "id": "wfDlYgtrGoof"
   },
   "source": [
    "## Types of Clustering Algorithms"
   ]
  },
  {
   "cell_type": "markdown",
   "metadata": {
    "colab_type": "text",
    "id": "KWtqF1xqGoog"
   },
   "source": [
    "Since the task of clustering is subjective, this means that can be used for achieving this goal are plenty. Every methodology follows a different set of rules for defining the ‘similarity’ among data points. In fact, there are more than 100 clustering algorithms known. But few of the algorithms are used popularly, let’s look at them in detail:\n",
    "- __Connectivity models__: These models are based on the notion that the data points _closer in data space __exhibit more similarity__ to each other __than__ the data points __lying farther__ away_. These models can follow two approaches.<br> Examples of these models are __hierarchical clustering algorithm__ and its variants.<br><br>\n",
    "- __Centroid models__: These are __iterative clustering algorithms__ in which the notion of similarity is derived by the __closeness of a data point to the centroid of the clusters__. K-Means clustering algorithm is a popular algorithm that falls into this category. These models run iteratively to find the __local optima__.<br><br>\n",
    "- __Distribution models__: These clustering models are based on the notion of __how probable is it that all data points in the cluster belong to the same distribution__ (For example: Normal, Gaussian). These models often suffer from __overfitting__. A popular example of these models is __Expectation-maximization algorithm__ which uses multivariate normal distributions.<br><br>\n",
    "- __Density Models__: These models search the data space for __areas of varied density of data points__ in the data space. It isolates various different density regions and assign the data points within these regions in the same cluster. Popular examples of density models are __DBSCAN and OPTICS__.\n"
   ]
  },
  {
   "cell_type": "markdown",
   "metadata": {
    "colab_type": "text",
    "id": "UNwxnRkvGooo"
   },
   "source": [
    "## Introduction to K-means Algorithm"
   ]
  },
  {
   "cell_type": "markdown",
   "metadata": {
    "colab_type": "text",
    "id": "Rwow3virGoot"
   },
   "source": [
    "K-means clustering is a type of __unsupervised learning__, which is used when you have __unlabeled data (i.e., data without defined categories or groups)__. \n",
    "> __The goal of this algorithm is to find groups in the data, with the number of groups represented by the variable K__. <br>\n",
    "\n",
    "- The algorithm works iteratively to assign each data point to one of K groups based on the features that are provided. <br>\n",
    "- Data points are clustered based on feature similarity.<br>\n",
    "\n",
    "The results of the __K-means clustering algorithm__ are:\n",
    "1. The centroids of the K clusters, which can be used to label new data\n",
    "2. Labels for the training data (each data point is assigned to a single cluster)![image.png](https://cdn-images-1.medium.com/max/716/1*WkU1q0Cuha2QKU5JnkcZBw.gif)\n"
   ]
  },
  {
   "cell_type": "markdown",
   "metadata": {
    "colab_type": "text",
    "id": "DoWmiWr_Goov"
   },
   "source": [
    "## Business Cases"
   ]
  },
  {
   "cell_type": "markdown",
   "metadata": {
    "colab_type": "text",
    "id": "pUcn_ykCGoox"
   },
   "source": [
    "The K-means clustering algorithm is used to __find groups__ which have not been __explicitly labeled__ in the data. This can be used to confirm business assumptions about what types of groups exist or to identify unknown groups in complex data sets.<br>\n",
    "This is a versatile algorithm that can be used for any type of grouping. Some examples of __use cases__ are:\n",
    "- Behavioral Segmentation\n",
    "- Inventory Categorization\n",
    "- Sorting Sensor measurements\n",
    "- Detecting bots and anomalies\n",
    "- Computer Vision\n",
    "- Astronomy"
   ]
  },
  {
   "cell_type": "markdown",
   "metadata": {
    "colab_type": "text",
    "id": "5LMUSfg0Gooy"
   },
   "source": [
    "## Algorithm"
   ]
  },
  {
   "cell_type": "markdown",
   "metadata": {
    "colab_type": "text",
    "id": "sDpM5M66Goo0"
   },
   "source": [
    "To start with k-means algorithm, you first have to randomly initialize points called the cluster centroids (K).<br>\n",
    "There are different methods to initialize the k value in the k-means algorithm:\n",
    "- __Forgy__ - Randomly assigning K centroids in our data set.\n",
    "- __Random Partition__: Assigning each data point to a cluster randomly, and then proceeding to evaluation of centroid positions of each cluster.\n",
    "- __KMeans++__: Used for samlla data sets.\n",
    "- __Canopy Clustering__: Unsupervised pre-clustering algorithm used as preprocessing step for K-means or any Heirarchichal Clustering. It helps in speeding up clustering operations on large data sets.\n",
    "K-means is an __iterative algorithm__ and it does __two__ steps:<br>\n",
    "### 1. Cluster Assignment\n",
    "The algorithm goes through each of the data points and depending on which cluster is closer, It assigns the data points to one of the three cluster centroids.![image.png](attachment:image.png)"
   ]
  },
  {
   "cell_type": "markdown",
   "metadata": {
    "colab_type": "text",
    "id": "0jya00HjGoo1"
   },
   "source": [
    "![image.png](https://cdn-images-1.medium.com/max/800/1*4LOxZL6bFl3rXlr2uCiKlQ.gif)"
   ]
  },
  {
   "cell_type": "markdown",
   "metadata": {
    "colab_type": "text",
    "id": "Qsy0mPioGoo1"
   },
   "source": [
    "### 2. Move Centroid\n",
    "Here, K-means moves the centroids to the average of the points in a cluster. In other words, the algorithm calculates the average of all the points in a cluster and moves the centroid to that average location.\n",
    "\n",
    "This process is repeated until there is no change in the clusters (or possibly until some other stopping condition is met). K is chosen randomly or by giving specific initial starting points by the user.![image.png](attachment:image.png)"
   ]
  },
  {
   "cell_type": "markdown",
   "metadata": {
    "colab_type": "text",
    "id": "qX6-8_o6Goo2"
   },
   "source": [
    "#### Let's see how actually the k is taken into consideration.\n",
    "\n",
    "As a starting point, you tell your model how many clusters it should make. First the model picks up K, (let K = 3) datapoints from the dataset. These datapoints are called cluster centroids.\n",
    "\n",
    "Now there are different ways you to initialize the centroids, you can either choose them at random — or sort the dataset, split it into K portions and pick one datapoint from each portion as a centriod.\n",
    "\n",
    "#### Assigning clusters to datapoints\n",
    "From here on wards, the model performs calculations on it’s own and assigns a cluster to each datapoint. Your model would calculate the distance between the datapoint & all the centroids, and will be assigned to the cluster with the nearest centroid. Again, there are different ways you can calculate this distance; all having their pros and cons. Usually we use the L2 distance.\n",
    "\n",
    "The picture below shows how to calculate the L2 distance between the centeroid and a datapoint. Every time a datapoint is assigned to a cluster the following steps are followed.![image.png](attachment:image.png)"
   ]
  },
  {
   "cell_type": "markdown",
   "metadata": {
    "colab_type": "text",
    "id": "yK293R4vGoo3"
   },
   "source": [
    "#### Updating centroids\n",
    "Because the initial centroids were chosen arbitrarily, your model the updates them with new cluster values. The new value might or might not occur in the dataset, in fact, it would be a coincidence if it does. This is because the updated cluster centorid is the average or the mean value of all the datapoints within that cluster.![image.png](attachment:image.png)"
   ]
  },
  {
   "cell_type": "markdown",
   "metadata": {
    "colab_type": "text",
    "id": "K7_pLs2WGoo4"
   },
   "source": [
    "## Choosing K"
   ]
  },
  {
   "cell_type": "markdown",
   "metadata": {
    "colab_type": "text",
    "id": "SPp1aMA3Goo4"
   },
   "source": [
    "One of the metrics that is commonly used to compare results across different values of 'K' is the __mean distance between data points and their cluster centroid__. \n",
    "- Since _increasing the number of clusters will always reduce the distance to data points, increasing K will always decrease this metric, to the extreme of reaching zero when K is the same as the number of data points_. \n",
    "Thus, this metric cannot be used as the sole target. \n",
    "Instead, mean distance to the centroid as a function of K is plotted and the __\"elbow point,\"__ where the __rate of decrease sharply shifts__, can be used to roughly __determine K__.\n",
    "\n",
    "A number of other techniques exist for validating K, including __cross-validation__, __information criteria__, the __information theoretic jump method__, the __silhouette method__, and the __G-means algorithm__. In addition, monitoring the distribution of data points across groups provides __insight__ into how the _algorithm is splitting the data for each K_.![image.png](attachment:image.png)"
   ]
  },
  {
   "cell_type": "markdown",
   "metadata": {
    "colab_type": "text",
    "id": "UP9OqYhjGoo5"
   },
   "source": [
    "## How good is K-means?"
   ]
  },
  {
   "cell_type": "markdown",
   "metadata": {
    "colab_type": "text",
    "id": "cXEFixgwGoo5"
   },
   "source": [
    "#### Pros\n",
    "- It’s a simple technique to understand. Even with the math behind it!\n",
    "- Quite fast for small data-sets.\n",
    "\n",
    "#### Cons\n",
    "- For large data-sets and large number of features, it gets computationally expensive.\n",
    "- If the data-set is sparse, then we may not get a good-quality clustering.\n",
    "- At times, it’s difficult to determine the number of clusters for K-Means.\n",
    "- It’s sensitive to outliers, so you should consider scaling your features before implementing K-Means.\n",
    "- Since the centroids get randomly initialised, the final centroids for the clusters may vary."
   ]
  },
  {
   "cell_type": "markdown",
   "metadata": {
    "colab_type": "text",
    "id": "Ff2o7CjDGoo6"
   },
   "source": [
    "### Introduction to Heirarchial Clustering"
   ]
  },
  {
   "cell_type": "markdown",
   "metadata": {
    "colab_type": "text",
    "id": "BtEAvgE0Goo9"
   },
   "source": [
    "It is a type of __connectivity model__ clustering which is based on the fact that data points that are __closer to each other__ are __more similar__ than the data points lying far away in a data space.\n",
    "\n",
    "As the name speaks for itself, the hierarchical clustering forms the __hierarchy of the clusters__ that can be studied by visualising __dendogram__.![image.png](attachment:image.png)"
   ]
  },
  {
   "cell_type": "markdown",
   "metadata": {
    "colab_type": "text",
    "id": "8gjRk_9JGoo_"
   },
   "source": [
    "### How to measure closeness of points?"
   ]
  },
  {
   "cell_type": "markdown",
   "metadata": {
    "colab_type": "text",
    "id": "jFYeQWBJGopE"
   },
   "source": [
    "![image.png](attachment:image.png)"
   ]
  },
  {
   "cell_type": "markdown",
   "metadata": {
    "colab_type": "text",
    "id": "AxI2xzBEGopM"
   },
   "source": [
    "### How to calculate distance between two clusters?"
   ]
  },
  {
   "cell_type": "markdown",
   "metadata": {
    "colab_type": "text",
    "id": "vxBo_j1cGopN"
   },
   "source": [
    "1. __Centroid Distance__: Euclidean distance between mean of data points in the two clusters\n",
    "2. __Minimum Distance__: Euclidean distance between two data points in the two clusters that are closest to each other\n",
    "3. __Maximum Distance__: Euclidean distance between two data points in the two clusters that are farthest to each other<br>\n",
    "\n",
    "\n",
    "- __Focus on Centroid Distance right now!__"
   ]
  },
  {
   "cell_type": "markdown",
   "metadata": {
    "colab_type": "text",
    "id": "GK-5XF9gGopO"
   },
   "source": [
    "### Algorithm Explained"
   ]
  },
  {
   "cell_type": "markdown",
   "metadata": {
    "colab_type": "text",
    "id": "K50VbdgGGopQ"
   },
   "source": [
    "1. Let there be __N__ data points. Firstly, these N data points are assigned to N different clusters with one data point in each cluster.\n",
    "2. Then, two data points with __minimum euclidean distance__ between them are merged into a single cluster.\n",
    "3. Then, two clusters with __minimum centroid distance__ between them are merged into a single cluster.\n",
    "4. This process is repeated until we are left with a single cluster, hence forming hierarchy of clusters.![image.png](attachment:image.png)"
   ]
  },
  {
   "cell_type": "markdown",
   "metadata": {
    "colab_type": "text",
    "id": "KQtWJbFsGopS"
   },
   "source": [
    "### How many clusters to form?"
   ]
  },
  {
   "cell_type": "markdown",
   "metadata": {
    "colab_type": "text",
    "id": "IGdrVhHaGopT"
   },
   "source": [
    "1. __Visualising dendogram__: Best choice of no. of clusters is no. of vertical lines that can be cut by a horizontal line, that can transverse maximum distance vertically without intersecting other cluster. \n",
    "    For eg., in the below case, best choice for no. of clusters will be __4__.\n",
    "2. __Intuition__ and prior knowledge of the data set.![image.png](attachment:image.png)"
   ]
  },
  {
   "cell_type": "markdown",
   "metadata": {
    "colab_type": "text",
    "id": "ADDqLkV4GopU"
   },
   "source": [
    "### Good Cluster Analysis"
   ]
  },
  {
   "cell_type": "markdown",
   "metadata": {
    "colab_type": "text",
    "id": "yyDRwAKmGopV"
   },
   "source": [
    "- __Data-points within same cluster share similar profile__: Statistically, check the standard deviation for each input variable in each cluster. A perfect separation in case of cluster analysis is rarely achieved. Hence, even __one standard deviation__ distance between two cluster means is considered to be a good separation.\n",
    "- __Well spread proportion of data-points among clusters__: There are no standards for this requirement. But a minimum of 5% and maximum of 35% of the total population can be assumed as a safe range for each cluster."
   ]
  },
  {
   "cell_type": "markdown",
   "metadata": {
    "colab_type": "text",
    "id": "hAsnyGO9GopW"
   },
   "source": [
    "## Use Case : Women E-Commerce Clothing Reviews"
   ]
  },
  {
   "cell_type": "markdown",
   "metadata": {
    "_uuid": "e2c87441a9ccc20bdddbbc453912d7e3428a0265",
    "colab_type": "text",
    "id": "u078C0y9GopX"
   },
   "source": [
    "# Consumer Segmentation\n",
    "Consumer segmentation is the practice of dividing a customer base into groups. In each of these groups the individuals are similar to each other in some ways. This practice allows a business to create a group specific campaign or digital advertisement. This not only increases the effectiveness of the business's marketing efforts, it helps in reducing the marketing costs by reducing spends on certain audience groups that might react differently to a campaign. Segmentation also enables businesses to focus marketing activities more on certain platforms based on the characteristics of the segments.\n",
    "Though segmentation is used to create homogenous groups of individuals, we will use it to understand consumer behaviour in this notebook."
   ]
  },
  {
   "cell_type": "markdown",
   "metadata": {
    "_uuid": "70d49c9db043c4f76dcb76ef0184e537d3611302",
    "colab_type": "text",
    "id": "pekXUQH3GopY"
   },
   "source": [
    "![](https://media.giphy.com/media/UPm0PtsTDCCDm/giphy.gif)"
   ]
  },
  {
   "cell_type": "markdown",
   "metadata": {
    "_uuid": "338ca0bf62b3da15e4f3d6f0455ba1f2ba372bf3",
    "colab_type": "text",
    "id": "FV2ohhkgGopa"
   },
   "source": [
    "In this script, we look at one of the most popular  segmentation algorithms; the k-means clustering algorithm.  k-means clustering is an *unsupervised learning* algorithm that groups data into $K$ number of sets by using an iterative process. For each cluster, the centroid is chosen in such a way that the distance between the centroid and the data points in the cluster is minimized. Before we carry on, we drop variables that are nominal in nature. We also try to convert the review text to sentiment scores as K Means only works with numerical data.\n",
    "\n",
    "# Library Load\n",
    "\n",
    "Here we will be using the pandas library to do data processing. The sklearn modules also help with necessary scaling of variables.\n",
    "\n",
    "![](https://media.giphy.com/media/5nueNT9SqFQQX9HQra/giphy.gif)\n"
   ]
  },
  {
   "cell_type": "code",
   "execution_count": 2,
   "metadata": {
    "_uuid": "91e92cfe7c72c4d6f93d3e80ac69b6f8a7fec335",
    "colab": {},
    "colab_type": "code",
    "id": "4-W6IqG_Gopb"
   },
   "outputs": [],
   "source": [
    "import pandas as pd\n",
    "import numpy as np\n",
    "from sklearn.cluster import KMeans\n",
    "from sklearn.preprocessing import LabelEncoder\n",
    "from sklearn.preprocessing import StandardScaler\n",
    "from sklearn.preprocessing import MinMaxScaler\n",
    "from sklearn.mixture import GaussianMixture #For GMM clustering\n",
    "import seaborn as sns\n",
    "import matplotlib.pyplot as plt\n",
    "\n",
    "%matplotlib inline\n"
   ]
  },
  {
   "cell_type": "code",
   "execution_count": 3,
   "metadata": {
    "_uuid": "b3abbb005f8df5ef7f3997d470e7503cc3551dbe",
    "colab": {
     "base_uri": "https://localhost:8080/",
     "height": 510
    },
    "colab_type": "code",
    "id": "j39XhxgtGopg",
    "outputId": "d23766ed-b3cd-4832-993b-530e5d4374f4"
   },
   "outputs": [
    {
     "name": "stdout",
     "output_type": "stream",
     "text": [
      "Unnamed: 0                  int64\n",
      "Clothing ID                 int64\n",
      "Age                         int64\n",
      "Title                      object\n",
      "Review Text                object\n",
      "Rating                      int64\n",
      "Recommended IND             int64\n",
      "Positive Feedback Count     int64\n",
      "Division Name              object\n",
      "Department Name            object\n",
      "Class Name                 object\n",
      "dtype: object\n"
     ]
    },
    {
     "data": {
      "text/html": [
       "<div>\n",
       "<style scoped>\n",
       "    .dataframe tbody tr th:only-of-type {\n",
       "        vertical-align: middle;\n",
       "    }\n",
       "\n",
       "    .dataframe tbody tr th {\n",
       "        vertical-align: top;\n",
       "    }\n",
       "\n",
       "    .dataframe thead th {\n",
       "        text-align: right;\n",
       "    }\n",
       "</style>\n",
       "<table border=\"1\" class=\"dataframe\">\n",
       "  <thead>\n",
       "    <tr style=\"text-align: right;\">\n",
       "      <th></th>\n",
       "      <th>Unnamed: 0</th>\n",
       "      <th>Clothing ID</th>\n",
       "      <th>Age</th>\n",
       "      <th>Title</th>\n",
       "      <th>Review Text</th>\n",
       "      <th>Rating</th>\n",
       "      <th>Recommended IND</th>\n",
       "      <th>Positive Feedback Count</th>\n",
       "      <th>Division Name</th>\n",
       "      <th>Department Name</th>\n",
       "      <th>Class Name</th>\n",
       "    </tr>\n",
       "  </thead>\n",
       "  <tbody>\n",
       "    <tr>\n",
       "      <td>2</td>\n",
       "      <td>2</td>\n",
       "      <td>1077</td>\n",
       "      <td>60</td>\n",
       "      <td>Some major design flaws</td>\n",
       "      <td>I had such high hopes for this dress and really wanted it to work for me. i initially ordered the petite small (my usual size) but i found this to be outrageously small. so small in fact that i co...</td>\n",
       "      <td>3</td>\n",
       "      <td>0</td>\n",
       "      <td>0</td>\n",
       "      <td>General</td>\n",
       "      <td>Dresses</td>\n",
       "      <td>Dresses</td>\n",
       "    </tr>\n",
       "    <tr>\n",
       "      <td>3</td>\n",
       "      <td>3</td>\n",
       "      <td>1049</td>\n",
       "      <td>50</td>\n",
       "      <td>My favorite buy!</td>\n",
       "      <td>I love, love, love this jumpsuit. it's fun, flirty, and fabulous! every time i wear it, i get nothing but great compliments!</td>\n",
       "      <td>5</td>\n",
       "      <td>1</td>\n",
       "      <td>0</td>\n",
       "      <td>General Petite</td>\n",
       "      <td>Bottoms</td>\n",
       "      <td>Pants</td>\n",
       "    </tr>\n",
       "    <tr>\n",
       "      <td>4</td>\n",
       "      <td>4</td>\n",
       "      <td>847</td>\n",
       "      <td>47</td>\n",
       "      <td>Flattering shirt</td>\n",
       "      <td>This shirt is very flattering to all due to the adjustable front tie. it is the perfect length to wear with leggings and it is sleeveless so it pairs well with any cardigan. love this shirt!!!</td>\n",
       "      <td>5</td>\n",
       "      <td>1</td>\n",
       "      <td>6</td>\n",
       "      <td>General</td>\n",
       "      <td>Tops</td>\n",
       "      <td>Blouses</td>\n",
       "    </tr>\n",
       "    <tr>\n",
       "      <td>5</td>\n",
       "      <td>5</td>\n",
       "      <td>1080</td>\n",
       "      <td>49</td>\n",
       "      <td>Not for the very petite</td>\n",
       "      <td>I love tracy reese dresses, but this one is not for the very petite. i am just under 5 feet tall and usually wear a 0p in this brand. this dress was very pretty out of the package but its a lot of...</td>\n",
       "      <td>2</td>\n",
       "      <td>0</td>\n",
       "      <td>4</td>\n",
       "      <td>General</td>\n",
       "      <td>Dresses</td>\n",
       "      <td>Dresses</td>\n",
       "    </tr>\n",
       "    <tr>\n",
       "      <td>6</td>\n",
       "      <td>6</td>\n",
       "      <td>858</td>\n",
       "      <td>39</td>\n",
       "      <td>Cagrcoal shimmer fun</td>\n",
       "      <td>I aded this in my basket at hte last mintue to see what it would look like in person. (store pick up). i went with teh darkler color only because i am so pale :-) hte color is really gorgeous, and...</td>\n",
       "      <td>5</td>\n",
       "      <td>1</td>\n",
       "      <td>1</td>\n",
       "      <td>General Petite</td>\n",
       "      <td>Tops</td>\n",
       "      <td>Knits</td>\n",
       "    </tr>\n",
       "  </tbody>\n",
       "</table>\n",
       "</div>"
      ],
      "text/plain": [
       "   Unnamed: 0  Clothing ID  Age                    Title  \\\n",
       "2           2         1077   60  Some major design flaws   \n",
       "3           3         1049   50         My favorite buy!   \n",
       "4           4          847   47         Flattering shirt   \n",
       "5           5         1080   49  Not for the very petite   \n",
       "6           6          858   39     Cagrcoal shimmer fun   \n",
       "\n",
       "                                                                                                                                                                                               Review Text  \\\n",
       "2  I had such high hopes for this dress and really wanted it to work for me. i initially ordered the petite small (my usual size) but i found this to be outrageously small. so small in fact that i co...   \n",
       "3                                                                             I love, love, love this jumpsuit. it's fun, flirty, and fabulous! every time i wear it, i get nothing but great compliments!   \n",
       "4         This shirt is very flattering to all due to the adjustable front tie. it is the perfect length to wear with leggings and it is sleeveless so it pairs well with any cardigan. love this shirt!!!   \n",
       "5  I love tracy reese dresses, but this one is not for the very petite. i am just under 5 feet tall and usually wear a 0p in this brand. this dress was very pretty out of the package but its a lot of...   \n",
       "6  I aded this in my basket at hte last mintue to see what it would look like in person. (store pick up). i went with teh darkler color only because i am so pale :-) hte color is really gorgeous, and...   \n",
       "\n",
       "   Rating  Recommended IND  Positive Feedback Count   Division Name  \\\n",
       "2       3                0                        0         General   \n",
       "3       5                1                        0  General Petite   \n",
       "4       5                1                        6         General   \n",
       "5       2                0                        4         General   \n",
       "6       5                1                        1  General Petite   \n",
       "\n",
       "  Department Name Class Name  \n",
       "2         Dresses    Dresses  \n",
       "3         Bottoms      Pants  \n",
       "4            Tops    Blouses  \n",
       "5         Dresses    Dresses  \n",
       "6            Tops      Knits  "
      ]
     },
     "execution_count": 3,
     "metadata": {},
     "output_type": "execute_result"
    }
   ],
   "source": [
    "review_data = pd.read_csv(\"https://raw.githubusercontent.com/insaid2018/Term-3/master/Data/CaseStudy/Womens%20Clothing%20E-Commerce%20Reviews.csv\")\n",
    "review_data.dropna(inplace=True)\n",
    "#review_data=review_data.drop(['Unnamed: 0', 'Clothing ID'],axis=1)\n",
    "print(review_data.dtypes)\n",
    "review_data.head(5)"
   ]
  },
  {
   "cell_type": "code",
   "execution_count": 4,
   "metadata": {
    "colab": {
     "base_uri": "https://localhost:8080/",
     "height": 204
    },
    "colab_type": "code",
    "id": "XEQYTdmOGopm",
    "outputId": "c9794e5f-2cd4-4815-d356-265ead00590c"
   },
   "outputs": [
    {
     "name": "stdout",
     "output_type": "stream",
     "text": [
      "/bin/sh: wget: command not found\r\n"
     ]
    }
   ],
   "source": [
    "!wget https://raw.githubusercontent.com/abromberg/sentiment_analysis/master/AFINN/AFINN-111.txt"
   ]
  },
  {
   "cell_type": "markdown",
   "metadata": {
    "_uuid": "e2aa9b7be1f180c81503c913b59217df31077bba",
    "colab_type": "text",
    "id": "rJyTIwShGopn"
   },
   "source": [
    "* In the next portion of the notebook we remove all the categorical variables."
   ]
  },
  {
   "cell_type": "code",
   "execution_count": 5,
   "metadata": {
    "_uuid": "b4f571f8085f65113dc83e168b4ac46772eb57c0",
    "colab": {},
    "colab_type": "code",
    "id": "AhqG8XNrGopr"
   },
   "outputs": [],
   "source": [
    "# remove all the columns that are categorical variables\n",
    "review_data_k_means=review_data.drop(['Unnamed: 0', 'Clothing ID','Class Name','Department Name','Title','Division Name','Recommended IND'],axis=1)"
   ]
  },
  {
   "cell_type": "markdown",
   "metadata": {
    "_uuid": "e470ca22e6d4eafbdd9f07dbe634454620412f51",
    "colab_type": "raw",
    "id": "CZGravorGopt"
   },
   "source": [
    "# converting review text to sentiment score\n",
    "from afinn import Afinn\n",
    "afinn= Afinn()\n",
    "review_data_k_means['Review Text'] = review_data_k_means['Review Text'].str.lower()\n",
    "review_data_k_means['sent_score'] = review_data_k_means.apply(lambda row: afinn.score(row['Review Text']), axis=1)\n",
    "\n",
    "sent_score = review_data_k_means['sent_score'].values\n",
    "with open(\"sent.txt\", \"wb\") as fp:   #Pickling\n",
    "    pickle.dump(sent_score, fp)\n",
    "\n",
    "with open(\"sent.txt\", \"rb\") as fp:   # Unpickling\n",
    "    b = pickle.load(fp)\n",
    "\n",
    "#print(b)\n",
    "\n",
    "\n",
    "\n",
    "\n",
    "\n",
    "\n",
    "\n",
    "## adding the minimum value of sentiment score so as to remove negative sentiment scores\n",
    "\n",
    "\n",
    "\n",
    "\n",
    "\n"
   ]
  },
  {
   "cell_type": "markdown",
   "metadata": {
    "_uuid": "09aff0cfd856c97f16cb380f9781c0cb9a685d50",
    "colab_type": "text",
    "id": "S-qqYdB8Gopu"
   },
   "source": [
    "Each product has a text review associated with it. Text can be converted to a numerical value using sentiment scores. One way to do this is to use predefined sentiment lexicons and match them accordingly. For this example, we will use the AFINN lexicon.\n",
    "\n",
    "As the Afinn library is not available on Kaggle, I have tried to post this portion of the code in raw format. A negative value denotes negative sentiment and a positive score indicates positive sentiments. The scores that are returned are then stored in a `.txt` format and called using the `pickle.load` function as seen below."
   ]
  },
  {
   "cell_type": "markdown",
   "metadata": {
    "colab_type": "text",
    "id": "3zCFfl1SGopu"
   },
   "source": [
    "https://github.com/insaid2018/Term-3/blob/master/Data/CaseStudy/sent.txt?raw=true"
   ]
  },
  {
   "cell_type": "code",
   "execution_count": 6,
   "metadata": {
    "colab": {},
    "colab_type": "code",
    "id": "qhyzhb3fVzTy"
   },
   "outputs": [],
   "source": [
    "with open(\"AFINN-111.txt\",'rb') as fp:\n",
    "  data = fp.read()"
   ]
  },
  {
   "cell_type": "code",
   "execution_count": 7,
   "metadata": {
    "colab": {
     "base_uri": "https://localhost:8080/",
     "height": 54
    },
    "colab_type": "code",
    "id": "ZkOStk1wV9e2",
    "outputId": "5d6224c8-3711-41de-9ca9-573286a87f07"
   },
   "outputs": [
    {
     "data": {
      "text/plain": [
       "b\"abandon\\t-2\\nabandoned\\t-2\\nabandons\\t-2\\nabducted\\t-2\\nabduction\\t-2\\nabductions\\t-2\\nabhor\\t-3\\nabhorred\\t-3\\nabhorrent\\t-3\\nabhors\\t-3\\nabilities\\t2\\nability\\t2\\naboard\\t1\\nabsentee\\t-1\\nabsentees\\t-1\\nabsolve\\t2\\nabsolved\\t2\\nabsolves\\t2\\nabsolving\\t2\\nabsorbed\\t1\\nabuse\\t-3\\nabused\\t-3\\nabuses\\t-3\\nabusive\\t-3\\naccept\\t1\\naccepted\\t1\\naccepting\\t1\\naccepts\\t1\\naccident\\t-2\\naccidental\\t-2\\naccidentally\\t-2\\naccidents\\t-2\\naccomplish\\t2\\naccomplished\\t2\\naccomplishes\\t2\\naccusation\\t-2\\naccusations\\t-2\\naccuse\\t-2\\naccused\\t-2\\naccuses\\t-2\\naccusing\\t-2\\nache\\t-2\\nachievable\\t1\\naching\\t-2\\nacquit\\t2\\nacquits\\t2\\nacquitted\\t2\\nacquitting\\t2\\nacrimonious\\t-3\\nactive\\t1\\nadequate\\t1\\nadmire\\t3\\nadmired\\t3\\nadmires\\t3\\nadmiring\\t3\\nadmit\\t-1\\nadmits\\t-1\\nadmitted\\t-1\\nadmonish\\t-2\\nadmonished\\t-2\\nadopt\\t1\\nadopts\\t1\\nadorable\\t3\\nadore\\t3\\nadored\\t3\\nadores\\t3\\nadvanced\\t1\\nadvantage\\t2\\nadvantages\\t2\\nadventure\\t2\\nadventures\\t2\\nadventurous\\t2\\naffected\\t-1\\naffection\\t3\\naffectionate\\t3\\nafflicted\\t-1\\naffronted\\t-1\\nafraid\\t-2\\naggravate\\t-2\\naggravated\\t-2\\naggravates\\t-2\\naggravating\\t-2\\naggression\\t-2\\naggressions\\t-2\\naggressive\\t-2\\naghast\\t-2\\nagog\\t2\\nagonise\\t-3\\nagonised\\t-3\\nagonises\\t-3\\nagonising\\t-3\\nagonize\\t-3\\nagonized\\t-3\\nagonizes\\t-3\\nagonizing\\t-3\\nagree\\t1\\nagreeable\\t2\\nagreed\\t1\\nagreement\\t1\\nagrees\\t1\\nalarm\\t-2\\nalarmed\\t-2\\nalarmist\\t-2\\nalarmists\\t-2\\nalas\\t-1\\nalert\\t-1\\nalienation\\t-2\\nalive\\t1\\nallergic\\t-2\\nallow\\t1\\nalone\\t-2\\namaze\\t2\\namazed\\t2\\namazes\\t2\\namazing\\t4\\nambitious\\t2\\nambivalent\\t-1\\namuse\\t3\\namused\\t3\\namusement\\t3\\namusements\\t3\\nanger\\t-3\\nangers\\t-3\\nangry\\t-3\\nanguish\\t-3\\nanguished\\t-3\\nanimosity\\t-2\\nannoy\\t-2\\nannoyance\\t-2\\nannoyed\\t-2\\nannoying\\t-2\\nannoys\\t-2\\nantagonistic\\t-2\\nanti\\t-1\\nanticipation\\t1\\nanxiety\\t-2\\nanxious\\t-2\\napathetic\\t-3\\napathy\\t-3\\napeshit\\t-3\\napocalyptic\\t-2\\napologise\\t-1\\napologised\\t-1\\napologises\\t-1\\napologising\\t-1\\napologize\\t-1\\napologized\\t-1\\napologizes\\t-1\\napologizing\\t-1\\napology\\t-1\\nappalled\\t-2\\nappalling\\t-2\\nappease\\t2\\nappeased\\t2\\nappeases\\t2\\nappeasing\\t2\\napplaud\\t2\\napplauded\\t2\\napplauding\\t2\\napplauds\\t2\\napplause\\t2\\nappreciate\\t2\\nappreciated\\t2\\nappreciates\\t2\\nappreciating\\t2\\nappreciation\\t2\\napprehensive\\t-2\\napproval\\t2\\napproved\\t2\\napproves\\t2\\nardent\\t1\\narrest\\t-2\\narrested\\t-3\\narrests\\t-2\\narrogant\\t-2\\nashame\\t-2\\nashamed\\t-2\\nass\\t-4\\nassassination\\t-3\\nassassinations\\t-3\\nasset\\t2\\nassets\\t2\\nassfucking\\t-4\\nasshole\\t-4\\nastonished\\t2\\nastound\\t3\\nastounded\\t3\\nastounding\\t3\\nastoundingly\\t3\\nastounds\\t3\\nattack\\t-1\\nattacked\\t-1\\nattacking\\t-1\\nattacks\\t-1\\nattract\\t1\\nattracted\\t1\\nattracting\\t2\\nattraction\\t2\\nattractions\\t2\\nattracts\\t1\\naudacious\\t3\\nauthority\\t1\\navert\\t-1\\naverted\\t-1\\naverts\\t-1\\navid\\t2\\navoid\\t-1\\navoided\\t-1\\navoids\\t-1\\nawait\\t-1\\nawaited\\t-1\\nawaits\\t-1\\naward\\t3\\nawarded\\t3\\nawards\\t3\\nawesome\\t4\\nawful\\t-3\\nawkward\\t-2\\naxe\\t-1\\naxed\\t-1\\nbacked\\t1\\nbacking\\t2\\nbacks\\t1\\nbad\\t-3\\nbadass\\t-3\\nbadly\\t-3\\nbailout\\t-2\\nbamboozle\\t-2\\nbamboozled\\t-2\\nbamboozles\\t-2\\nban\\t-2\\nbanish\\t-1\\nbankrupt\\t-3\\nbankster\\t-3\\nbanned\\t-2\\nbargain\\t2\\nbarrier\\t-2\\nbastard\\t-5\\nbastards\\t-5\\nbattle\\t-1\\nbattles\\t-1\\nbeaten\\t-2\\nbeatific\\t3\\nbeating\\t-1\\nbeauties\\t3\\nbeautiful\\t3\\nbeautifully\\t3\\nbeautify\\t3\\nbelittle\\t-2\\nbelittled\\t-2\\nbeloved\\t3\\nbenefit\\t2\\nbenefits\\t2\\nbenefitted\\t2\\nbenefitting\\t2\\nbereave\\t-2\\nbereaved\\t-2\\nbereaves\\t-2\\nbereaving\\t-2\\nbest\\t3\\nbetray\\t-3\\nbetrayal\\t-3\\nbetrayed\\t-3\\nbetraying\\t-3\\nbetrays\\t-3\\nbetter\\t2\\nbias\\t-1\\nbiased\\t-2\\nbig\\t1\\nbitch\\t-5\\nbitches\\t-5\\nbitter\\t-2\\nbitterly\\t-2\\nbizarre\\t-2\\nblah\\t-2\\nblame\\t-2\\nblamed\\t-2\\nblames\\t-2\\nblaming\\t-2\\nbless\\t2\\nblesses\\t2\\nblessing\\t3\\nblind\\t-1\\nbliss\\t3\\nblissful\\t3\\nblithe\\t2\\nblock\\t-1\\nblockbuster\\t3\\nblocked\\t-1\\nblocking\\t-1\\nblocks\\t-1\\nbloody\\t-3\\nblurry\\t-2\\nboastful\\t-2\\nbold\\t2\\nboldly\\t2\\nbomb\\t-1\\nboost\\t1\\nboosted\\t1\\nboosting\\t1\\nboosts\\t1\\nbore\\t-2\\nbored\\t-2\\nboring\\t-3\\nbother\\t-2\\nbothered\\t-2\\nbothers\\t-2\\nbothersome\\t-2\\nboycott\\t-2\\nboycotted\\t-2\\nboycotting\\t-2\\nboycotts\\t-2\\nbrainwashing\\t-3\\nbrave\\t2\\nbreakthrough\\t3\\nbreathtaking\\t5\\nbribe\\t-3\\nbright\\t1\\nbrightest\\t2\\nbrightness\\t1\\nbrilliant\\t4\\nbrisk\\t2\\nbroke\\t-1\\nbroken\\t-1\\nbrooding\\t-2\\nbullied\\t-2\\nbullshit\\t-4\\nbully\\t-2\\nbullying\\t-2\\nbummer\\t-2\\nbuoyant\\t2\\nburden\\t-2\\nburdened\\t-2\\nburdening\\t-2\\nburdens\\t-2\\ncalm\\t2\\ncalmed\\t2\\ncalming\\t2\\ncalms\\t2\\ncan't stand\\t-3\\ncancel\\t-1\\ncancelled\\t-1\\ncancelling\\t-1\\ncancels\\t-1\\ncancer\\t-1\\ncapable\\t1\\ncaptivated\\t3\\ncare\\t2\\ncarefree\\t1\\ncareful\\t2\\ncarefully\\t2\\ncareless\\t-2\\ncares\\t2\\ncashing in\\t-2\\ncasualty\\t-2\\ncatastrophe\\t-3\\ncatastrophic\\t-4\\ncautious\\t-1\\ncelebrate\\t3\\ncelebrated\\t3\\ncelebrates\\t3\\ncelebrating\\t3\\ncensor\\t-2\\ncensored\\t-2\\ncensors\\t-2\\ncertain\\t1\\nchagrin\\t-2\\nchagrined\\t-2\\nchallenge\\t-1\\nchance\\t2\\nchances\\t2\\nchaos\\t-2\\nchaotic\\t-2\\ncharged\\t-3\\ncharges\\t-2\\ncharm\\t3\\ncharming\\t3\\ncharmless\\t-3\\nchastise\\t-3\\nchastised\\t-3\\nchastises\\t-3\\nchastising\\t-3\\ncheat\\t-3\\ncheated\\t-3\\ncheater\\t-3\\ncheaters\\t-3\\ncheats\\t-3\\ncheer\\t2\\ncheered\\t2\\ncheerful\\t2\\ncheering\\t2\\ncheerless\\t-2\\ncheers\\t2\\ncheery\\t3\\ncherish\\t2\\ncherished\\t2\\ncherishes\\t2\\ncherishing\\t2\\nchic\\t2\\nchildish\\t-2\\nchilling\\t-1\\nchoke\\t-2\\nchoked\\t-2\\nchokes\\t-2\\nchoking\\t-2\\nclarifies\\t2\\nclarity\\t2\\nclash\\t-2\\nclassy\\t3\\nclean\\t2\\ncleaner\\t2\\nclear\\t1\\ncleared\\t1\\nclearly\\t1\\nclears\\t1\\nclever\\t2\\nclouded\\t-1\\nclueless\\t-2\\ncock\\t-5\\ncocksucker\\t-5\\ncocksuckers\\t-5\\ncocky\\t-2\\ncoerced\\t-2\\ncollapse\\t-2\\ncollapsed\\t-2\\ncollapses\\t-2\\ncollapsing\\t-2\\ncollide\\t-1\\ncollides\\t-1\\ncolliding\\t-1\\ncollision\\t-2\\ncollisions\\t-2\\ncolluding\\t-3\\ncombat\\t-1\\ncombats\\t-1\\ncomedy\\t1\\ncomfort\\t2\\ncomfortable\\t2\\ncomforting\\t2\\ncomforts\\t2\\ncommend\\t2\\ncommended\\t2\\ncommit\\t1\\ncommitment\\t2\\ncommits\\t1\\ncommitted\\t1\\ncommitting\\t1\\ncompassionate\\t2\\ncompelled\\t1\\ncompetent\\t2\\ncompetitive\\t2\\ncomplacent\\t-2\\ncomplain\\t-2\\ncomplained\\t-2\\ncomplains\\t-2\\ncomprehensive\\t2\\nconciliate\\t2\\nconciliated\\t2\\nconciliates\\t2\\nconciliating\\t2\\ncondemn\\t-2\\ncondemnation\\t-2\\ncondemned\\t-2\\ncondemns\\t-2\\nconfidence\\t2\\nconfident\\t2\\nconflict\\t-2\\nconflicting\\t-2\\nconflictive\\t-2\\nconflicts\\t-2\\nconfuse\\t-2\\nconfused\\t-2\\nconfusing\\t-2\\ncongrats\\t2\\ncongratulate\\t2\\ncongratulation\\t2\\ncongratulations\\t2\\nconsent\\t2\\nconsents\\t2\\nconsolable\\t2\\nconspiracy\\t-3\\nconstrained\\t-2\\ncontagion\\t-2\\ncontagions\\t-2\\ncontagious\\t-1\\ncontempt\\t-2\\ncontemptuous\\t-2\\ncontemptuously\\t-2\\ncontend\\t-1\\ncontender\\t-1\\ncontending\\t-1\\ncontentious\\t-2\\ncontestable\\t-2\\ncontroversial\\t-2\\ncontroversially\\t-2\\nconvince\\t1\\nconvinced\\t1\\nconvinces\\t1\\nconvivial\\t2\\ncool\\t1\\ncool stuff\\t3\\ncornered\\t-2\\ncorpse\\t-1\\ncostly\\t-2\\ncourage\\t2\\ncourageous\\t2\\ncourteous\\t2\\ncourtesy\\t2\\ncover-up\\t-3\\ncoward\\t-2\\ncowardly\\t-2\\ncoziness\\t2\\ncramp\\t-1\\ncrap\\t-3\\ncrash\\t-2\\ncrazier\\t-2\\ncraziest\\t-2\\ncrazy\\t-2\\ncreative\\t2\\ncrestfallen\\t-2\\ncried\\t-2\\ncries\\t-2\\ncrime\\t-3\\ncriminal\\t-3\\ncriminals\\t-3\\ncrisis\\t-3\\ncritic\\t-2\\ncriticism\\t-2\\ncriticize\\t-2\\ncriticized\\t-2\\ncriticizes\\t-2\\ncriticizing\\t-2\\ncritics\\t-2\\ncruel\\t-3\\ncruelty\\t-3\\ncrush\\t-1\\ncrushed\\t-2\\ncrushes\\t-1\\ncrushing\\t-1\\ncry\\t-1\\ncrying\\t-2\\ncunt\\t-5\\ncurious\\t1\\ncurse\\t-1\\ncut\\t-1\\ncute\\t2\\ncuts\\t-1\\ncutting\\t-1\\ncynic\\t-2\\ncynical\\t-2\\ncynicism\\t-2\\ndamage\\t-3\\ndamages\\t-3\\ndamn\\t-4\\ndamned\\t-4\\ndamnit\\t-4\\ndanger\\t-2\\ndaredevil\\t2\\ndaring\\t2\\ndarkest\\t-2\\ndarkness\\t-1\\ndauntless\\t2\\ndead\\t-3\\ndeadlock\\t-2\\ndeafening\\t-1\\ndear\\t2\\ndearly\\t3\\ndeath\\t-2\\ndebonair\\t2\\ndebt\\t-2\\ndeceit\\t-3\\ndeceitful\\t-3\\ndeceive\\t-3\\ndeceived\\t-3\\ndeceives\\t-3\\ndeceiving\\t-3\\ndeception\\t-3\\ndecisive\\t1\\ndedicated\\t2\\ndefeated\\t-2\\ndefect\\t-3\\ndefects\\t-3\\ndefender\\t2\\ndefenders\\t2\\ndefenseless\\t-2\\ndefer\\t-1\\ndeferring\\t-1\\ndefiant\\t-1\\ndeficit\\t-2\\ndegrade\\t-2\\ndegraded\\t-2\\ndegrades\\t-2\\ndehumanize\\t-2\\ndehumanized\\t-2\\ndehumanizes\\t-2\\ndehumanizing\\t-2\\ndeject\\t-2\\ndejected\\t-2\\ndejecting\\t-2\\ndejects\\t-2\\ndelay\\t-1\\ndelayed\\t-1\\ndelight\\t3\\ndelighted\\t3\\ndelighting\\t3\\ndelights\\t3\\ndemand\\t-1\\ndemanded\\t-1\\ndemanding\\t-1\\ndemands\\t-1\\ndemonstration\\t-1\\ndemoralized\\t-2\\ndenied\\t-2\\ndenier\\t-2\\ndeniers\\t-2\\ndenies\\t-2\\ndenounce\\t-2\\ndenounces\\t-2\\ndeny\\t-2\\ndenying\\t-2\\ndepressed\\t-2\\ndepressing\\t-2\\nderail\\t-2\\nderailed\\t-2\\nderails\\t-2\\nderide\\t-2\\nderided\\t-2\\nderides\\t-2\\nderiding\\t-2\\nderision\\t-2\\ndesirable\\t2\\ndesire\\t1\\ndesired\\t2\\ndesirous\\t2\\ndespair\\t-3\\ndespairing\\t-3\\ndespairs\\t-3\\ndesperate\\t-3\\ndesperately\\t-3\\ndespondent\\t-3\\ndestroy\\t-3\\ndestroyed\\t-3\\ndestroying\\t-3\\ndestroys\\t-3\\ndestruction\\t-3\\ndestructive\\t-3\\ndetached\\t-1\\ndetain\\t-2\\ndetained\\t-2\\ndetention\\t-2\\ndetermined\\t2\\ndevastate\\t-2\\ndevastated\\t-2\\ndevastating\\t-2\\ndevoted\\t3\\ndiamond\\t1\\ndick\\t-4\\ndickhead\\t-4\\ndie\\t-3\\ndied\\t-3\\ndifficult\\t-1\\ndiffident\\t-2\\ndilemma\\t-1\\ndipshit\\t-3\\ndire\\t-3\\ndireful\\t-3\\ndirt\\t-2\\ndirtier\\t-2\\ndirtiest\\t-2\\ndirty\\t-2\\ndisabling\\t-1\\ndisadvantage\\t-2\\ndisadvantaged\\t-2\\ndisappear\\t-1\\ndisappeared\\t-1\\ndisappears\\t-1\\ndisappoint\\t-2\\ndisappointed\\t-2\\ndisappointing\\t-2\\ndisappointment\\t-2\\ndisappointments\\t-2\\ndisappoints\\t-2\\ndisaster\\t-2\\ndisasters\\t-2\\ndisastrous\\t-3\\ndisbelieve\\t-2\\ndiscard\\t-1\\ndiscarded\\t-1\\ndiscarding\\t-1\\ndiscards\\t-1\\ndisconsolate\\t-2\\ndisconsolation\\t-2\\ndiscontented\\t-2\\ndiscord\\t-2\\ndiscounted\\t-1\\ndiscouraged\\t-2\\ndiscredited\\t-2\\ndisdain\\t-2\\ndisgrace\\t-2\\ndisgraced\\t-2\\ndisguise\\t-1\\ndisguised\\t-1\\ndisguises\\t-1\\ndisguising\\t-1\\ndisgust\\t-3\\ndisgusted\\t-3\\ndisgusting\\t-3\\ndisheartened\\t-2\\ndishonest\\t-2\\ndisillusioned\\t-2\\ndisinclined\\t-2\\ndisjointed\\t-2\\ndislike\\t-2\\ndismal\\t-2\\ndismayed\\t-2\\ndisorder\\t-2\\ndisorganized\\t-2\\ndisoriented\\t-2\\ndisparage\\t-2\\ndisparaged\\t-2\\ndisparages\\t-2\\ndisparaging\\t-2\\ndispleased\\t-2\\ndispute\\t-2\\ndisputed\\t-2\\ndisputes\\t-2\\ndisputing\\t-2\\ndisqualified\\t-2\\ndisquiet\\t-2\\ndisregard\\t-2\\ndisregarded\\t-2\\ndisregarding\\t-2\\ndisregards\\t-2\\ndisrespect\\t-2\\ndisrespected\\t-2\\ndisruption\\t-2\\ndisruptions\\t-2\\ndisruptive\\t-2\\ndissatisfied\\t-2\\ndistort\\t-2\\ndistorted\\t-2\\ndistorting\\t-2\\ndistorts\\t-2\\ndistract\\t-2\\ndistracted\\t-2\\ndistraction\\t-2\\ndistracts\\t-2\\ndistress\\t-2\\ndistressed\\t-2\\ndistresses\\t-2\\ndistressing\\t-2\\ndistrust\\t-3\\ndistrustful\\t-3\\ndisturb\\t-2\\ndisturbed\\t-2\\ndisturbing\\t-2\\ndisturbs\\t-2\\ndithering\\t-2\\ndizzy\\t-1\\ndodging\\t-2\\ndodgy\\t-2\\ndoes not work\\t-3\\ndolorous\\t-2\\ndont like\\t-2\\ndoom\\t-2\\ndoomed\\t-2\\ndoubt\\t-1\\ndoubted\\t-1\\ndoubtful\\t-1\\ndoubting\\t-1\\ndoubts\\t-1\\ndouche\\t-3\\ndouchebag\\t-3\\ndowncast\\t-2\\ndownhearted\\t-2\\ndownside\\t-2\\ndrag\\t-1\\ndragged\\t-1\\ndrags\\t-1\\ndrained\\t-2\\ndread\\t-2\\ndreaded\\t-2\\ndreadful\\t-3\\ndreading\\t-2\\ndream\\t1\\ndreams\\t1\\ndreary\\t-2\\ndroopy\\t-2\\ndrop\\t-1\\ndrown\\t-2\\ndrowned\\t-2\\ndrowns\\t-2\\ndrunk\\t-2\\ndubious\\t-2\\ndud\\t-2\\ndull\\t-2\\ndumb\\t-3\\ndumbass\\t-3\\ndump\\t-1\\ndumped\\t-2\\ndumps\\t-1\\ndupe\\t-2\\nduped\\t-2\\ndysfunction\\t-2\\neager\\t2\\nearnest\\t2\\nease\\t2\\neasy\\t1\\necstatic\\t4\\neerie\\t-2\\neery\\t-2\\neffective\\t2\\neffectively\\t2\\nelated\\t3\\nelation\\t3\\nelegant\\t2\\nelegantly\\t2\\nembarrass\\t-2\\nembarrassed\\t-2\\nembarrasses\\t-2\\nembarrassing\\t-2\\nembarrassment\\t-2\\nembittered\\t-2\\nembrace\\t1\\nemergency\\t-2\\nempathetic\\t2\\nemptiness\\t-1\\nempty\\t-1\\nenchanted\\t2\\nencourage\\t2\\nencouraged\\t2\\nencouragement\\t2\\nencourages\\t2\\nendorse\\t2\\nendorsed\\t2\\nendorsement\\t2\\nendorses\\t2\\nenemies\\t-2\\nenemy\\t-2\\nenergetic\\t2\\nengage\\t1\\nengages\\t1\\nengrossed\\t1\\nenjoy\\t2\\nenjoying\\t2\\nenjoys\\t2\\nenlighten\\t2\\nenlightened\\t2\\nenlightening\\t2\\nenlightens\\t2\\nennui\\t-2\\nenrage\\t-2\\nenraged\\t-2\\nenrages\\t-2\\nenraging\\t-2\\nenrapture\\t3\\nenslave\\t-2\\nenslaved\\t-2\\nenslaves\\t-2\\nensure\\t1\\nensuring\\t1\\nenterprising\\t1\\nentertaining\\t2\\nenthral\\t3\\nenthusiastic\\t3\\nentitled\\t1\\nentrusted\\t2\\nenvies\\t-1\\nenvious\\t-2\\nenvy\\t-1\\nenvying\\t-1\\nerroneous\\t-2\\nerror\\t-2\\nerrors\\t-2\\nescape\\t-1\\nescapes\\t-1\\nescaping\\t-1\\nesteemed\\t2\\nethical\\t2\\neuphoria\\t3\\neuphoric\\t4\\neviction\\t-1\\nevil\\t-3\\nexaggerate\\t-2\\nexaggerated\\t-2\\nexaggerates\\t-2\\nexaggerating\\t-2\\nexasperated\\t2\\nexcellence\\t3\\nexcellent\\t3\\nexcite\\t3\\nexcited\\t3\\nexcitement\\t3\\nexciting\\t3\\nexclude\\t-1\\nexcluded\\t-2\\nexclusion\\t-1\\nexclusive\\t2\\nexcuse\\t-1\\nexempt\\t-1\\nexhausted\\t-2\\nexhilarated\\t3\\nexhilarates\\t3\\nexhilarating\\t3\\nexonerate\\t2\\nexonerated\\t2\\nexonerates\\t2\\nexonerating\\t2\\nexpand\\t1\\nexpands\\t1\\nexpel\\t-2\\nexpelled\\t-2\\nexpelling\\t-2\\nexpels\\t-2\\nexploit\\t-2\\nexploited\\t-2\\nexploiting\\t-2\\nexploits\\t-2\\nexploration\\t1\\nexplorations\\t1\\nexpose\\t-1\\nexposed\\t-1\\nexposes\\t-1\\nexposing\\t-1\\nextend\\t1\\nextends\\t1\\nexuberant\\t4\\nexultant\\t3\\nexultantly\\t3\\nfabulous\\t4\\nfad\\t-2\\nfag\\t-3\\nfaggot\\t-3\\nfaggots\\t-3\\nfail\\t-2\\nfailed\\t-2\\nfailing\\t-2\\nfails\\t-2\\nfailure\\t-2\\nfailures\\t-2\\nfainthearted\\t-2\\nfair\\t2\\nfaith\\t1\\nfaithful\\t3\\nfake\\t-3\\nfakes\\t-3\\nfaking\\t-3\\nfallen\\t-2\\nfalling\\t-1\\nfalsified\\t-3\\nfalsify\\t-3\\nfame\\t1\\nfan\\t3\\nfantastic\\t4\\nfarce\\t-1\\nfascinate\\t3\\nfascinated\\t3\\nfascinates\\t3\\nfascinating\\t3\\nfascist\\t-2\\nfascists\\t-2\\nfatalities\\t-3\\nfatality\\t-3\\nfatigue\\t-2\\nfatigued\\t-2\\nfatigues\\t-2\\nfatiguing\\t-2\\nfavor\\t2\\nfavored\\t2\\nfavorite\\t2\\nfavorited\\t2\\nfavorites\\t2\\nfavors\\t2\\nfear\\t-2\\nfearful\\t-2\\nfearing\\t-2\\nfearless\\t2\\nfearsome\\t-2\\nfed up\\t-3\\nfeeble\\t-2\\nfeeling\\t1\\nfelonies\\t-3\\nfelony\\t-3\\nfervent\\t2\\nfervid\\t2\\nfestive\\t2\\nfiasco\\t-3\\nfidgety\\t-2\\nfight\\t-1\\nfine\\t2\\nfire\\t-2\\nfired\\t-2\\nfiring\\t-2\\nfit\\t1\\nfitness\\t1\\nflagship\\t2\\nflees\\t-1\\nflop\\t-2\\nflops\\t-2\\nflu\\t-2\\nflustered\\t-2\\nfocused\\t2\\nfond\\t2\\nfondness\\t2\\nfool\\t-2\\nfoolish\\t-2\\nfools\\t-2\\nforced\\t-1\\nforeclosure\\t-2\\nforeclosures\\t-2\\nforget\\t-1\\nforgetful\\t-2\\nforgive\\t1\\nforgiving\\t1\\nforgotten\\t-1\\nfortunate\\t2\\nfrantic\\t-1\\nfraud\\t-4\\nfrauds\\t-4\\nfraudster\\t-4\\nfraudsters\\t-4\\nfraudulence\\t-4\\nfraudulent\\t-4\\nfree\\t1\\nfreedom\\t2\\nfrenzy\\t-3\\nfresh\\t1\\nfriendly\\t2\\nfright\\t-2\\nfrightened\\t-2\\nfrightening\\t-3\\nfrikin\\t-2\\nfrisky\\t2\\nfrowning\\t-1\\nfrustrate\\t-2\\nfrustrated\\t-2\\nfrustrates\\t-2\\nfrustrating\\t-2\\nfrustration\\t-2\\nftw\\t3\\nfuck\\t-4\\nfucked\\t-4\\nfucker\\t-4\\nfuckers\\t-4\\nfuckface\\t-4\\nfuckhead\\t-4\\nfucking\\t-4\\nfucktard\\t-4\\nfud\\t-3\\nfuked\\t-4\\nfuking\\t-4\\nfulfill\\t2\\nfulfilled\\t2\\nfulfills\\t2\\nfuming\\t-2\\nfun\\t4\\nfuneral\\t-1\\nfunerals\\t-1\\nfunky\\t2\\nfunnier\\t4\\nfunny\\t4\\nfurious\\t-3\\nfutile\\t2\\ngag\\t-2\\ngagged\\t-2\\ngain\\t2\\ngained\\t2\\ngaining\\t2\\ngains\\t2\\ngallant\\t3\\ngallantly\\t3\\ngallantry\\t3\\ngenerous\\t2\\ngenial\\t3\\nghost\\t-1\\ngiddy\\t-2\\ngift\\t2\\nglad\\t3\\nglamorous\\t3\\nglamourous\\t3\\nglee\\t3\\ngleeful\\t3\\ngloom\\t-1\\ngloomy\\t-2\\nglorious\\t2\\nglory\\t2\\nglum\\t-2\\ngod\\t1\\ngoddamn\\t-3\\ngodsend\\t4\\ngood\\t3\\ngoodness\\t3\\ngrace\\t1\\ngracious\\t3\\ngrand\\t3\\ngrant\\t1\\ngranted\\t1\\ngranting\\t1\\ngrants\\t1\\ngrateful\\t3\\ngratification\\t2\\ngrave\\t-2\\ngray\\t-1\\ngreat\\t3\\ngreater\\t3\\ngreatest\\t3\\ngreed\\t-3\\ngreedy\\t-2\\ngreen wash\\t-3\\ngreen washing\\t-3\\ngreenwash\\t-3\\ngreenwasher\\t-3\\ngreenwashers\\t-3\\ngreenwashing\\t-3\\ngreet\\t1\\ngreeted\\t1\\ngreeting\\t1\\ngreetings\\t2\\ngreets\\t1\\ngrey\\t-1\\ngrief\\t-2\\ngrieved\\t-2\\ngross\\t-2\\ngrowing\\t1\\ngrowth\\t2\\nguarantee\\t1\\nguilt\\t-3\\nguilty\\t-3\\ngullibility\\t-2\\ngullible\\t-2\\ngun\\t-1\\nha\\t2\\nhacked\\t-1\\nhaha\\t3\\nhahaha\\t3\\nhahahah\\t3\\nhail\\t2\\nhailed\\t2\\nhapless\\t-2\\nhaplessness\\t-2\\nhappiness\\t3\\nhappy\\t3\\nhard\\t-1\\nhardier\\t2\\nhardship\\t-2\\nhardy\\t2\\nharm\\t-2\\nharmed\\t-2\\nharmful\\t-2\\nharming\\t-2\\nharms\\t-2\\nharried\\t-2\\nharsh\\t-2\\nharsher\\t-2\\nharshest\\t-2\\nhate\\t-3\\nhated\\t-3\\nhaters\\t-3\\nhates\\t-3\\nhating\\t-3\\nhaunt\\t-1\\nhaunted\\t-2\\nhaunting\\t1\\nhaunts\\t-1\\nhavoc\\t-2\\nhealthy\\t2\\nheartbreaking\\t-3\\nheartbroken\\t-3\\nheartfelt\\t3\\nheaven\\t2\\nheavenly\\t4\\nheavyhearted\\t-2\\nhell\\t-4\\nhelp\\t2\\nhelpful\\t2\\nhelping\\t2\\nhelpless\\t-2\\nhelps\\t2\\nhero\\t2\\nheroes\\t2\\nheroic\\t3\\nhesitant\\t-2\\nhesitate\\t-2\\nhid\\t-1\\nhide\\t-1\\nhides\\t-1\\nhiding\\t-1\\nhighlight\\t2\\nhilarious\\t2\\nhindrance\\t-2\\nhoax\\t-2\\nhomesick\\t-2\\nhonest\\t2\\nhonor\\t2\\nhonored\\t2\\nhonoring\\t2\\nhonour\\t2\\nhonoured\\t2\\nhonouring\\t2\\nhooligan\\t-2\\nhooliganism\\t-2\\nhooligans\\t-2\\nhope\\t2\\nhopeful\\t2\\nhopefully\\t2\\nhopeless\\t-2\\nhopelessness\\t-2\\nhopes\\t2\\nhoping\\t2\\nhorrendous\\t-3\\nhorrible\\t-3\\nhorrific\\t-3\\nhorrified\\t-3\\nhostile\\t-2\\nhuckster\\t-2\\nhug\\t2\\nhuge\\t1\\nhugs\\t2\\nhumerous\\t3\\nhumiliated\\t-3\\nhumiliation\\t-3\\nhumor\\t2\\nhumorous\\t2\\nhumour\\t2\\nhumourous\\t2\\nhunger\\t-2\\nhurrah\\t5\\nhurt\\t-2\\nhurting\\t-2\\nhurts\\t-2\\nhypocritical\\t-2\\nhysteria\\t-3\\nhysterical\\t-3\\nhysterics\\t-3\\nidiot\\t-3\\nidiotic\\t-3\\nignorance\\t-2\\nignorant\\t-2\\nignore\\t-1\\nignored\\t-2\\nignores\\t-1\\nill\\t-2\\nillegal\\t-3\\nilliteracy\\t-2\\nillness\\t-2\\nillnesses\\t-2\\nimbecile\\t-3\\nimmobilized\\t-1\\nimmortal\\t2\\nimmune\\t1\\nimpatient\\t-2\\nimperfect\\t-2\\nimportance\\t2\\nimportant\\t2\\nimpose\\t-1\\nimposed\\t-1\\nimposes\\t-1\\nimposing\\t-1\\nimpotent\\t-2\\nimpress\\t3\\nimpressed\\t3\\nimpresses\\t3\\nimpressive\\t3\\nimprisoned\\t-2\\nimprove\\t2\\nimproved\\t2\\nimprovement\\t2\\nimproves\\t2\\nimproving\\t2\\ninability\\t-2\\ninaction\\t-2\\ninadequate\\t-2\\nincapable\\t-2\\nincapacitated\\t-2\\nincensed\\t-2\\nincompetence\\t-2\\nincompetent\\t-2\\ninconsiderate\\t-2\\ninconvenience\\t-2\\ninconvenient\\t-2\\nincrease\\t1\\nincreased\\t1\\nindecisive\\t-2\\nindestructible\\t2\\nindifference\\t-2\\nindifferent\\t-2\\nindignant\\t-2\\nindignation\\t-2\\nindoctrinate\\t-2\\nindoctrinated\\t-2\\nindoctrinates\\t-2\\nindoctrinating\\t-2\\nineffective\\t-2\\nineffectively\\t-2\\ninfatuated\\t2\\ninfatuation\\t2\\ninfected\\t-2\\ninferior\\t-2\\ninflamed\\t-2\\ninfluential\\t2\\ninfringement\\t-2\\ninfuriate\\t-2\\ninfuriated\\t-2\\ninfuriates\\t-2\\ninfuriating\\t-2\\ninhibit\\t-1\\ninjured\\t-2\\ninjury\\t-2\\ninjustice\\t-2\\ninnovate\\t1\\ninnovates\\t1\\ninnovation\\t1\\ninnovative\\t2\\ninquisition\\t-2\\ninquisitive\\t2\\ninsane\\t-2\\ninsanity\\t-2\\ninsecure\\t-2\\ninsensitive\\t-2\\ninsensitivity\\t-2\\ninsignificant\\t-2\\ninsipid\\t-2\\ninspiration\\t2\\ninspirational\\t2\\ninspire\\t2\\ninspired\\t2\\ninspires\\t2\\ninspiring\\t3\\ninsult\\t-2\\ninsulted\\t-2\\ninsulting\\t-2\\ninsults\\t-2\\nintact\\t2\\nintegrity\\t2\\nintelligent\\t2\\nintense\\t1\\ninterest\\t1\\ninterested\\t2\\ninteresting\\t2\\ninterests\\t1\\ninterrogated\\t-2\\ninterrupt\\t-2\\ninterrupted\\t-2\\ninterrupting\\t-2\\ninterruption\\t-2\\ninterrupts\\t-2\\nintimidate\\t-2\\nintimidated\\t-2\\nintimidates\\t-2\\nintimidating\\t-2\\nintimidation\\t-2\\nintricate\\t2\\nintrigues\\t1\\ninvincible\\t2\\ninvite\\t1\\ninviting\\t1\\ninvulnerable\\t2\\nirate\\t-3\\nironic\\t-1\\nirony\\t-1\\nirrational\\t-1\\nirresistible\\t2\\nirresolute\\t-2\\nirresponsible\\t2\\nirreversible\\t-1\\nirritate\\t-3\\nirritated\\t-3\\nirritating\\t-3\\nisolated\\t-1\\nitchy\\t-2\\njackass\\t-4\\njackasses\\t-4\\njailed\\t-2\\njaunty\\t2\\njealous\\t-2\\njeopardy\\t-2\\njerk\\t-3\\njesus\\t1\\njewel\\t1\\njewels\\t1\\njocular\\t2\\njoin\\t1\\njoke\\t2\\njokes\\t2\\njolly\\t2\\njovial\\t2\\njoy\\t3\\njoyful\\t3\\njoyfully\\t3\\njoyless\\t-2\\njoyous\\t3\\njubilant\\t3\\njumpy\\t-1\\njustice\\t2\\njustifiably\\t2\\njustified\\t2\\nkeen\\t1\\nkill\\t-3\\nkilled\\t-3\\nkilling\\t-3\\nkills\\t-3\\nkind\\t2\\nkinder\\t2\\nkiss\\t2\\nkudos\\t3\\nlack\\t-2\\nlackadaisical\\t-2\\nlag\\t-1\\nlagged\\t-2\\nlagging\\t-2\\nlags\\t-2\\nlame\\t-2\\nlandmark\\t2\\nlaugh\\t1\\nlaughed\\t1\\nlaughing\\t1\\nlaughs\\t1\\nlaughting\\t1\\nlaunched\\t1\\nlawl\\t3\\nlawsuit\\t-2\\nlawsuits\\t-2\\nlazy\\t-1\\nleak\\t-1\\nleaked\\t-1\\nleave\\t-1\\nlegal\\t1\\nlegally\\t1\\nlenient\\t1\\nlethargic\\t-2\\nlethargy\\t-2\\nliar\\t-3\\nliars\\t-3\\nlibelous\\t-2\\nlied\\t-2\\nlifesaver\\t4\\nlighthearted\\t1\\nlike\\t2\\nliked\\t2\\nlikes\\t2\\nlimitation\\t-1\\nlimited\\t-1\\nlimits\\t-1\\nlitigation\\t-1\\nlitigious\\t-2\\nlively\\t2\\nlivid\\t-2\\nlmao\\t4\\nlmfao\\t4\\nloathe\\t-3\\nloathed\\t-3\\nloathes\\t-3\\nloathing\\t-3\\nlobby\\t-2\\nlobbying\\t-2\\nlol\\t3\\nlonely\\t-2\\nlonesome\\t-2\\nlonging\\t-1\\nloom\\t-1\\nloomed\\t-1\\nlooming\\t-1\\nlooms\\t-1\\nloose\\t-3\\nlooses\\t-3\\nloser\\t-3\\nlosing\\t-3\\nloss\\t-3\\nlost\\t-3\\nlovable\\t3\\nlove\\t3\\nloved\\t3\\nlovelies\\t3\\nlovely\\t3\\nloving\\t2\\nlowest\\t-1\\nloyal\\t3\\nloyalty\\t3\\nluck\\t3\\nluckily\\t3\\nlucky\\t3\\nlugubrious\\t-2\\nlunatic\\t-3\\nlunatics\\t-3\\nlurk\\t-1\\nlurking\\t-1\\nlurks\\t-1\\nmad\\t-3\\nmaddening\\t-3\\nmade-up\\t-1\\nmadly\\t-3\\nmadness\\t-3\\nmandatory\\t-1\\nmanipulated\\t-1\\nmanipulating\\t-1\\nmanipulation\\t-1\\nmarvel\\t3\\nmarvelous\\t3\\nmarvels\\t3\\nmasterpiece\\t4\\nmasterpieces\\t4\\nmatter\\t1\\nmatters\\t1\\nmature\\t2\\nmeaningful\\t2\\nmeaningless\\t-2\\nmedal\\t3\\nmediocrity\\t-3\\nmeditative\\t1\\nmelancholy\\t-2\\nmenace\\t-2\\nmenaced\\t-2\\nmercy\\t2\\nmerry\\t3\\nmess\\t-2\\nmessed\\t-2\\nmessing up\\t-2\\nmethodical\\t2\\nmindless\\t-2\\nmiracle\\t4\\nmirth\\t3\\nmirthful\\t3\\nmirthfully\\t3\\nmisbehave\\t-2\\nmisbehaved\\t-2\\nmisbehaves\\t-2\\nmisbehaving\\t-2\\nmischief\\t-1\\nmischiefs\\t-1\\nmiserable\\t-3\\nmisery\\t-2\\nmisgiving\\t-2\\nmisinformation\\t-2\\nmisinformed\\t-2\\nmisinterpreted\\t-2\\nmisleading\\t-3\\nmisread\\t-1\\nmisreporting\\t-2\\nmisrepresentation\\t-2\\nmiss\\t-2\\nmissed\\t-2\\nmissing\\t-2\\nmistake\\t-2\\nmistaken\\t-2\\nmistakes\\t-2\\nmistaking\\t-2\\nmisunderstand\\t-2\\nmisunderstanding\\t-2\\nmisunderstands\\t-2\\nmisunderstood\\t-2\\nmoan\\t-2\\nmoaned\\t-2\\nmoaning\\t-2\\nmoans\\t-2\\nmock\\t-2\\nmocked\\t-2\\nmocking\\t-2\\nmocks\\t-2\\nmongering\\t-2\\nmonopolize\\t-2\\nmonopolized\\t-2\\nmonopolizes\\t-2\\nmonopolizing\\t-2\\nmoody\\t-1\\nmope\\t-1\\nmoping\\t-1\\nmoron\\t-3\\nmotherfucker\\t-5\\nmotherfucking\\t-5\\nmotivate\\t1\\nmotivated\\t2\\nmotivating\\t2\\nmotivation\\t1\\nmourn\\t-2\\nmourned\\t-2\\nmournful\\t-2\\nmourning\\t-2\\nmourns\\t-2\\nmumpish\\t-2\\nmurder\\t-2\\nmurderer\\t-2\\nmurdering\\t-3\\nmurderous\\t-3\\nmurders\\t-2\\nmyth\\t-1\\nn00b\\t-2\\nnaive\\t-2\\nnasty\\t-3\\nnatural\\t1\\nna\\xc3\\xafve\\t-2\\nneedy\\t-2\\nnegative\\t-2\\nnegativity\\t-2\\nneglect\\t-2\\nneglected\\t-2\\nneglecting\\t-2\\nneglects\\t-2\\nnerves\\t-1\\nnervous\\t-2\\nnervously\\t-2\\nnice\\t3\\nnifty\\t2\\nniggas\\t-5\\nnigger\\t-5\\nno\\t-1\\nno fun\\t-3\\nnoble\\t2\\nnoisy\\t-1\\nnonsense\\t-2\\nnoob\\t-2\\nnosey\\t-2\\nnot good\\t-2\\nnot working\\t-3\\nnotorious\\t-2\\nnovel\\t2\\nnumb\\t-1\\nnuts\\t-3\\nobliterate\\t-2\\nobliterated\\t-2\\nobnoxious\\t-3\\nobscene\\t-2\\nobsessed\\t2\\nobsolete\\t-2\\nobstacle\\t-2\\nobstacles\\t-2\\nobstinate\\t-2\\nodd\\t-2\\noffend\\t-2\\noffended\\t-2\\noffender\\t-2\\noffending\\t-2\\noffends\\t-2\\noffline\\t-1\\noks\\t2\\nominous\\t3\\nonce-in-a-lifetime\\t3\\nopportunities\\t2\\nopportunity\\t2\\noppressed\\t-2\\noppressive\\t-2\\noptimism\\t2\\noptimistic\\t2\\noptionless\\t-2\\noutcry\\t-2\\noutmaneuvered\\t-2\\noutrage\\t-3\\noutraged\\t-3\\noutreach\\t2\\noutstanding\\t5\\noverjoyed\\t4\\noverload\\t-1\\noverlooked\\t-1\\noverreact\\t-2\\noverreacted\\t-2\\noverreaction\\t-2\\noverreacts\\t-2\\noversell\\t-2\\noverselling\\t-2\\noversells\\t-2\\noversimplification\\t-2\\noversimplified\\t-2\\noversimplifies\\t-2\\noversimplify\\t-2\\noverstatement\\t-2\\noverstatements\\t-2\\noverweight\\t-1\\noxymoron\\t-1\\npain\\t-2\\npained\\t-2\\npanic\\t-3\\npanicked\\t-3\\npanics\\t-3\\nparadise\\t3\\nparadox\\t-1\\npardon\\t2\\npardoned\\t2\\npardoning\\t2\\npardons\\t2\\nparley\\t-1\\npassionate\\t2\\npassive\\t-1\\npassively\\t-1\\npathetic\\t-2\\npay\\t-1\\npeace\\t2\\npeaceful\\t2\\npeacefully\\t2\\npenalty\\t-2\\npensive\\t-1\\nperfect\\t3\\nperfected\\t2\\nperfectly\\t3\\nperfects\\t2\\nperil\\t-2\\nperjury\\t-3\\nperpetrator\\t-2\\nperpetrators\\t-2\\nperplexed\\t-2\\npersecute\\t-2\\npersecuted\\t-2\\npersecutes\\t-2\\npersecuting\\t-2\\nperturbed\\t-2\\npesky\\t-2\\npessimism\\t-2\\npessimistic\\t-2\\npetrified\\t-2\\nphobic\\t-2\\npicturesque\\t2\\npileup\\t-1\\npique\\t-2\\npiqued\\t-2\\npiss\\t-4\\npissed\\t-4\\npissing\\t-3\\npiteous\\t-2\\npitied\\t-1\\npity\\t-2\\nplayful\\t2\\npleasant\\t3\\nplease\\t1\\npleased\\t3\\npleasure\\t3\\npoised\\t-2\\npoison\\t-2\\npoisoned\\t-2\\npoisons\\t-2\\npollute\\t-2\\npolluted\\t-2\\npolluter\\t-2\\npolluters\\t-2\\npollutes\\t-2\\npoor\\t-2\\npoorer\\t-2\\npoorest\\t-2\\npopular\\t3\\npositive\\t2\\npositively\\t2\\npossessive\\t-2\\npostpone\\t-1\\npostponed\\t-1\\npostpones\\t-1\\npostponing\\t-1\\npoverty\\t-1\\npowerful\\t2\\npowerless\\t-2\\npraise\\t3\\npraised\\t3\\npraises\\t3\\npraising\\t3\\npray\\t1\\npraying\\t1\\nprays\\t1\\nprblm\\t-2\\nprblms\\t-2\\nprepared\\t1\\npressure\\t-1\\npressured\\t-2\\npretend\\t-1\\npretending\\t-1\\npretends\\t-1\\npretty\\t1\\nprevent\\t-1\\nprevented\\t-1\\npreventing\\t-1\\nprevents\\t-1\\nprick\\t-5\\nprison\\t-2\\nprisoner\\t-2\\nprisoners\\t-2\\nprivileged\\t2\\nproactive\\t2\\nproblem\\t-2\\nproblems\\t-2\\nprofiteer\\t-2\\nprogress\\t2\\nprominent\\t2\\npromise\\t1\\npromised\\t1\\npromises\\t1\\npromote\\t1\\npromoted\\t1\\npromotes\\t1\\npromoting\\t1\\npropaganda\\t-2\\nprosecute\\t-1\\nprosecuted\\t-2\\nprosecutes\\t-1\\nprosecution\\t-1\\nprospect\\t1\\nprospects\\t1\\nprosperous\\t3\\nprotect\\t1\\nprotected\\t1\\nprotects\\t1\\nprotest\\t-2\\nprotesters\\t-2\\nprotesting\\t-2\\nprotests\\t-2\\nproud\\t2\\nproudly\\t2\\nprovoke\\t-1\\nprovoked\\t-1\\nprovokes\\t-1\\nprovoking\\t-1\\npseudoscience\\t-3\\npunish\\t-2\\npunished\\t-2\\npunishes\\t-2\\npunitive\\t-2\\npushy\\t-1\\npuzzled\\t-2\\nquaking\\t-2\\nquestionable\\t-2\\nquestioned\\t-1\\nquestioning\\t-1\\nracism\\t-3\\nracist\\t-3\\nracists\\t-3\\nrage\\t-2\\nrageful\\t-2\\nrainy\\t-1\\nrant\\t-3\\nranter\\t-3\\nranters\\t-3\\nrants\\t-3\\nrape\\t-4\\nrapist\\t-4\\nrapture\\t2\\nraptured\\t2\\nraptures\\t2\\nrapturous\\t4\\nrash\\t-2\\nratified\\t2\\nreach\\t1\\nreached\\t1\\nreaches\\t1\\nreaching\\t1\\nreassure\\t1\\nreassured\\t1\\nreassures\\t1\\nreassuring\\t2\\nrebellion\\t-2\\nrecession\\t-2\\nreckless\\t-2\\nrecommend\\t2\\nrecommended\\t2\\nrecommends\\t2\\nredeemed\\t2\\nrefuse\\t-2\\nrefused\\t-2\\nrefusing\\t-2\\nregret\\t-2\\nregretful\\t-2\\nregrets\\t-2\\nregretted\\t-2\\nregretting\\t-2\\nreject\\t-1\\nrejected\\t-1\\nrejecting\\t-1\\nrejects\\t-1\\nrejoice\\t4\\nrejoiced\\t4\\nrejoices\\t4\\nrejoicing\\t4\\nrelaxed\\t2\\nrelentless\\t-1\\nreliant\\t2\\nrelieve\\t1\\nrelieved\\t2\\nrelieves\\t1\\nrelieving\\t2\\nrelishing\\t2\\nremarkable\\t2\\nremorse\\t-2\\nrepulse\\t-1\\nrepulsed\\t-2\\nrescue\\t2\\nrescued\\t2\\nrescues\\t2\\nresentful\\t-2\\nresign\\t-1\\nresigned\\t-1\\nresigning\\t-1\\nresigns\\t-1\\nresolute\\t2\\nresolve\\t2\\nresolved\\t2\\nresolves\\t2\\nresolving\\t2\\nrespected\\t2\\nresponsible\\t2\\nresponsive\\t2\\nrestful\\t2\\nrestless\\t-2\\nrestore\\t1\\nrestored\\t1\\nrestores\\t1\\nrestoring\\t1\\nrestrict\\t-2\\nrestricted\\t-2\\nrestricting\\t-2\\nrestriction\\t-2\\nrestricts\\t-2\\nretained\\t-1\\nretard\\t-2\\nretarded\\t-2\\nretreat\\t-1\\nrevenge\\t-2\\nrevengeful\\t-2\\nrevered\\t2\\nrevive\\t2\\nrevives\\t2\\nreward\\t2\\nrewarded\\t2\\nrewarding\\t2\\nrewards\\t2\\nrich\\t2\\nridiculous\\t-3\\nrig\\t-1\\nrigged\\t-1\\nright direction\\t3\\nrigorous\\t3\\nrigorously\\t3\\nriot\\t-2\\nriots\\t-2\\nrisk\\t-2\\nrisks\\t-2\\nrob\\t-2\\nrobber\\t-2\\nrobed\\t-2\\nrobing\\t-2\\nrobs\\t-2\\nrobust\\t2\\nrofl\\t4\\nroflcopter\\t4\\nroflmao\\t4\\nromance\\t2\\nrotfl\\t4\\nrotflmfao\\t4\\nrotflol\\t4\\nruin\\t-2\\nruined\\t-2\\nruining\\t-2\\nruins\\t-2\\nsabotage\\t-2\\nsad\\t-2\\nsadden\\t-2\\nsaddened\\t-2\\nsadly\\t-2\\nsafe\\t1\\nsafely\\t1\\nsafety\\t1\\nsalient\\t1\\nsappy\\t-1\\nsarcastic\\t-2\\nsatisfied\\t2\\nsave\\t2\\nsaved\\t2\\nscam\\t-2\\nscams\\t-2\\nscandal\\t-3\\nscandalous\\t-3\\nscandals\\t-3\\nscapegoat\\t-2\\nscapegoats\\t-2\\nscare\\t-2\\nscared\\t-2\\nscary\\t-2\\nsceptical\\t-2\\nscold\\t-2\\nscoop\\t3\\nscorn\\t-2\\nscornful\\t-2\\nscream\\t-2\\nscreamed\\t-2\\nscreaming\\t-2\\nscreams\\t-2\\nscrewed\\t-2\\nscrewed up\\t-3\\nscumbag\\t-4\\nsecure\\t2\\nsecured\\t2\\nsecures\\t2\\nsedition\\t-2\\nseditious\\t-2\\nseduced\\t-1\\nself-confident\\t2\\nself-deluded\\t-2\\nselfish\\t-3\\nselfishness\\t-3\\nsentence\\t-2\\nsentenced\\t-2\\nsentences\\t-2\\nsentencing\\t-2\\nserene\\t2\\nsevere\\t-2\\nsexy\\t3\\nshaky\\t-2\\nshame\\t-2\\nshamed\\t-2\\nshameful\\t-2\\nshare\\t1\\nshared\\t1\\nshares\\t1\\nshattered\\t-2\\nshit\\t-4\\nshithead\\t-4\\nshitty\\t-3\\nshock\\t-2\\nshocked\\t-2\\nshocking\\t-2\\nshocks\\t-2\\nshoot\\t-1\\nshort-sighted\\t-2\\nshort-sightedness\\t-2\\nshortage\\t-2\\nshortages\\t-2\\nshrew\\t-4\\nshy\\t-1\\nsick\\t-2\\nsigh\\t-2\\nsignificance\\t1\\nsignificant\\t1\\nsilencing\\t-1\\nsilly\\t-1\\nsincere\\t2\\nsincerely\\t2\\nsincerest\\t2\\nsincerity\\t2\\nsinful\\t-3\\nsingleminded\\t-2\\nskeptic\\t-2\\nskeptical\\t-2\\nskepticism\\t-2\\nskeptics\\t-2\\nslam\\t-2\\nslash\\t-2\\nslashed\\t-2\\nslashes\\t-2\\nslashing\\t-2\\nslavery\\t-3\\nsleeplessness\\t-2\\nslick\\t2\\nslicker\\t2\\nslickest\\t2\\nsluggish\\t-2\\nslut\\t-5\\nsmart\\t1\\nsmarter\\t2\\nsmartest\\t2\\nsmear\\t-2\\nsmile\\t2\\nsmiled\\t2\\nsmiles\\t2\\nsmiling\\t2\\nsmog\\t-2\\nsneaky\\t-1\\nsnub\\t-2\\nsnubbed\\t-2\\nsnubbing\\t-2\\nsnubs\\t-2\\nsobering\\t1\\nsolemn\\t-1\\nsolid\\t2\\nsolidarity\\t2\\nsolution\\t1\\nsolutions\\t1\\nsolve\\t1\\nsolved\\t1\\nsolves\\t1\\nsolving\\t1\\nsomber\\t-2\\nsome kind\\t0\\nson-of-a-bitch\\t-5\\nsoothe\\t3\\nsoothed\\t3\\nsoothing\\t3\\nsophisticated\\t2\\nsore\\t-1\\nsorrow\\t-2\\nsorrowful\\t-2\\nsorry\\t-1\\nspam\\t-2\\nspammer\\t-3\\nspammers\\t-3\\nspamming\\t-2\\nspark\\t1\\nsparkle\\t3\\nsparkles\\t3\\nsparkling\\t3\\nspeculative\\t-2\\nspirit\\t1\\nspirited\\t2\\nspiritless\\t-2\\nspiteful\\t-2\\nsplendid\\t3\\nsprightly\\t2\\nsquelched\\t-1\\nstab\\t-2\\nstabbed\\t-2\\nstable\\t2\\nstabs\\t-2\\nstall\\t-2\\nstalled\\t-2\\nstalling\\t-2\\nstamina\\t2\\nstampede\\t-2\\nstartled\\t-2\\nstarve\\t-2\\nstarved\\t-2\\nstarves\\t-2\\nstarving\\t-2\\nsteadfast\\t2\\nsteal\\t-2\\nsteals\\t-2\\nstereotype\\t-2\\nstereotyped\\t-2\\nstifled\\t-1\\nstimulate\\t1\\nstimulated\\t1\\nstimulates\\t1\\nstimulating\\t2\\nstingy\\t-2\\nstolen\\t-2\\nstop\\t-1\\nstopped\\t-1\\nstopping\\t-1\\nstops\\t-1\\nstout\\t2\\nstraight\\t1\\nstrange\\t-1\\nstrangely\\t-1\\nstrangled\\t-2\\nstrength\\t2\\nstrengthen\\t2\\nstrengthened\\t2\\nstrengthening\\t2\\nstrengthens\\t2\\nstressed\\t-2\\nstressor\\t-2\\nstressors\\t-2\\nstricken\\t-2\\nstrike\\t-1\\nstrikers\\t-2\\nstrikes\\t-1\\nstrong\\t2\\nstronger\\t2\\nstrongest\\t2\\nstruck\\t-1\\nstruggle\\t-2\\nstruggled\\t-2\\nstruggles\\t-2\\nstruggling\\t-2\\nstubborn\\t-2\\nstuck\\t-2\\nstunned\\t-2\\nstunning\\t4\\nstupid\\t-2\\nstupidly\\t-2\\nsuave\\t2\\nsubstantial\\t1\\nsubstantially\\t1\\nsubversive\\t-2\\nsuccess\\t2\\nsuccessful\\t3\\nsuck\\t-3\\nsucks\\t-3\\nsuffer\\t-2\\nsuffering\\t-2\\nsuffers\\t-2\\nsuicidal\\t-2\\nsuicide\\t-2\\nsuing\\t-2\\nsulking\\t-2\\nsulky\\t-2\\nsullen\\t-2\\nsunshine\\t2\\nsuper\\t3\\nsuperb\\t5\\nsuperior\\t2\\nsupport\\t2\\nsupported\\t2\\nsupporter\\t1\\nsupporters\\t1\\nsupporting\\t1\\nsupportive\\t2\\nsupports\\t2\\nsurvived\\t2\\nsurviving\\t2\\nsurvivor\\t2\\nsuspect\\t-1\\nsuspected\\t-1\\nsuspecting\\t-1\\nsuspects\\t-1\\nsuspend\\t-1\\nsuspended\\t-1\\nsuspicious\\t-2\\nswear\\t-2\\nswearing\\t-2\\nswears\\t-2\\nsweet\\t2\\nswift\\t2\\nswiftly\\t2\\nswindle\\t-3\\nswindles\\t-3\\nswindling\\t-3\\nsympathetic\\t2\\nsympathy\\t2\\ntard\\t-2\\ntears\\t-2\\ntender\\t2\\ntense\\t-2\\ntension\\t-1\\nterrible\\t-3\\nterribly\\t-3\\nterrific\\t4\\nterrified\\t-3\\nterror\\t-3\\nterrorize\\t-3\\nterrorized\\t-3\\nterrorizes\\t-3\\nthank\\t2\\nthankful\\t2\\nthanks\\t2\\nthorny\\t-2\\nthoughtful\\t2\\nthoughtless\\t-2\\nthreat\\t-2\\nthreaten\\t-2\\nthreatened\\t-2\\nthreatening\\t-2\\nthreatens\\t-2\\nthreats\\t-2\\nthrilled\\t5\\nthwart\\t-2\\nthwarted\\t-2\\nthwarting\\t-2\\nthwarts\\t-2\\ntimid\\t-2\\ntimorous\\t-2\\ntired\\t-2\\ntits\\t-2\\ntolerant\\t2\\ntoothless\\t-2\\ntop\\t2\\ntops\\t2\\ntorn\\t-2\\ntorture\\t-4\\ntortured\\t-4\\ntortures\\t-4\\ntorturing\\t-4\\ntotalitarian\\t-2\\ntotalitarianism\\t-2\\ntout\\t-2\\ntouted\\t-2\\ntouting\\t-2\\ntouts\\t-2\\ntragedy\\t-2\\ntragic\\t-2\\ntranquil\\t2\\ntrap\\t-1\\ntrapped\\t-2\\ntrauma\\t-3\\ntraumatic\\t-3\\ntravesty\\t-2\\ntreason\\t-3\\ntreasonous\\t-3\\ntreasure\\t2\\ntreasures\\t2\\ntrembling\\t-2\\ntremulous\\t-2\\ntricked\\t-2\\ntrickery\\t-2\\ntriumph\\t4\\ntriumphant\\t4\\ntrouble\\t-2\\ntroubled\\t-2\\ntroubles\\t-2\\ntrue\\t2\\ntrust\\t1\\ntrusted\\t2\\ntumor\\t-2\\ntwat\\t-5\\nugly\\t-3\\nunacceptable\\t-2\\nunappreciated\\t-2\\nunapproved\\t-2\\nunaware\\t-2\\nunbelievable\\t-1\\nunbelieving\\t-1\\nunbiased\\t2\\nuncertain\\t-1\\nunclear\\t-1\\nuncomfortable\\t-2\\nunconcerned\\t-2\\nunconfirmed\\t-1\\nunconvinced\\t-1\\nuncredited\\t-1\\nundecided\\t-1\\nunderestimate\\t-1\\nunderestimated\\t-1\\nunderestimates\\t-1\\nunderestimating\\t-1\\nundermine\\t-2\\nundermined\\t-2\\nundermines\\t-2\\nundermining\\t-2\\nundeserving\\t-2\\nundesirable\\t-2\\nuneasy\\t-2\\nunemployment\\t-2\\nunequal\\t-1\\nunequaled\\t2\\nunethical\\t-2\\nunfair\\t-2\\nunfocused\\t-2\\nunfulfilled\\t-2\\nunhappy\\t-2\\nunhealthy\\t-2\\nunified\\t1\\nunimpressed\\t-2\\nunintelligent\\t-2\\nunited\\t1\\nunjust\\t-2\\nunlovable\\t-2\\nunloved\\t-2\\nunmatched\\t1\\nunmotivated\\t-2\\nunprofessional\\t-2\\nunresearched\\t-2\\nunsatisfied\\t-2\\nunsecured\\t-2\\nunsettled\\t-1\\nunsophisticated\\t-2\\nunstable\\t-2\\nunstoppable\\t2\\nunsupported\\t-2\\nunsure\\t-1\\nuntarnished\\t2\\nunwanted\\t-2\\nunworthy\\t-2\\nupset\\t-2\\nupsets\\t-2\\nupsetting\\t-2\\nuptight\\t-2\\nurgent\\t-1\\nuseful\\t2\\nusefulness\\t2\\nuseless\\t-2\\nuselessness\\t-2\\nvague\\t-2\\nvalidate\\t1\\nvalidated\\t1\\nvalidates\\t1\\nvalidating\\t1\\nverdict\\t-1\\nverdicts\\t-1\\nvested\\t1\\nvexation\\t-2\\nvexing\\t-2\\nvibrant\\t3\\nvicious\\t-2\\nvictim\\t-3\\nvictimize\\t-3\\nvictimized\\t-3\\nvictimizes\\t-3\\nvictimizing\\t-3\\nvictims\\t-3\\nvigilant\\t3\\nvile\\t-3\\nvindicate\\t2\\nvindicated\\t2\\nvindicates\\t2\\nvindicating\\t2\\nviolate\\t-2\\nviolated\\t-2\\nviolates\\t-2\\nviolating\\t-2\\nviolence\\t-3\\nviolent\\t-3\\nvirtuous\\t2\\nvirulent\\t-2\\nvision\\t1\\nvisionary\\t3\\nvisioning\\t1\\nvisions\\t1\\nvitality\\t3\\nvitamin\\t1\\nvitriolic\\t-3\\nvivacious\\t3\\nvociferous\\t-1\\nvulnerability\\t-2\\nvulnerable\\t-2\\nwalkout\\t-2\\nwalkouts\\t-2\\nwanker\\t-3\\nwant\\t1\\nwar\\t-2\\nwarfare\\t-2\\nwarm\\t1\\nwarmth\\t2\\nwarn\\t-2\\nwarned\\t-2\\nwarning\\t-3\\nwarnings\\t-3\\nwarns\\t-2\\nwaste\\t-1\\nwasted\\t-2\\nwasting\\t-2\\nwavering\\t-1\\nweak\\t-2\\nweakness\\t-2\\nwealth\\t3\\nwealthy\\t2\\nweary\\t-2\\nweep\\t-2\\nweeping\\t-2\\nweird\\t-2\\nwelcome\\t2\\nwelcomed\\t2\\nwelcomes\\t2\\nwhimsical\\t1\\nwhitewash\\t-3\\nwhore\\t-4\\nwicked\\t-2\\nwidowed\\t-1\\nwillingness\\t2\\nwin\\t4\\nwinner\\t4\\nwinning\\t4\\nwins\\t4\\nwinwin\\t3\\nwish\\t1\\nwishes\\t1\\nwishing\\t1\\nwithdrawal\\t-3\\nwoebegone\\t-2\\nwoeful\\t-3\\nwon\\t3\\nwonderful\\t4\\nwoo\\t3\\nwoohoo\\t3\\nwooo\\t4\\nwoow\\t4\\nworn\\t-1\\nworried\\t-3\\nworry\\t-3\\nworrying\\t-3\\nworse\\t-3\\nworsen\\t-3\\nworsened\\t-3\\nworsening\\t-3\\nworsens\\t-3\\nworshiped\\t3\\nworst\\t-3\\nworth\\t2\\nworthless\\t-2\\nworthy\\t2\\nwow\\t4\\nwowow\\t4\\nwowww\\t4\\nwrathful\\t-3\\nwreck\\t-2\\nwrong\\t-2\\nwronged\\t-2\\nwtf\\t-4\\nyeah\\t1\\nyearning\\t1\\nyeees\\t2\\nyes\\t1\\nyouthful\\t2\\nyucky\\t-2\\nyummy\\t3\\nzealot\\t-2\\nzealots\\t-2\\nzealous\\t2\""
      ]
     },
     "execution_count": 7,
     "metadata": {},
     "output_type": "execute_result"
    }
   ],
   "source": [
    "data"
   ]
  },
  {
   "cell_type": "code",
   "execution_count": 8,
   "metadata": {
    "colab": {
     "base_uri": "https://localhost:8080/",
     "height": 34
    },
    "colab_type": "code",
    "id": "wjJ_AZTCM0N2",
    "outputId": "012b8aaa-bd3b-4067-e4b3-692456ef40f4"
   },
   "outputs": [
    {
     "data": {
      "text/plain": [
       "['alarm', '-2']"
      ]
     },
     "execution_count": 8,
     "metadata": {},
     "output_type": "execute_result"
    }
   ],
   "source": [
    "str(data).split(\"\\\\n\")[100].split(\"\\\\t\")"
   ]
  },
  {
   "cell_type": "code",
   "execution_count": null,
   "metadata": {
    "colab": {},
    "colab_type": "code",
    "id": "lUmzJ8noM-Ni"
   },
   "outputs": [],
   "source": []
  },
  {
   "cell_type": "code",
   "execution_count": 9,
   "metadata": {
    "colab": {},
    "colab_type": "code",
    "id": "YJavkvYmWFfC"
   },
   "outputs": [],
   "source": [
    "# str(data).split(\"\\\\n\")[10].split(\"\\\\t\")\n",
    "#!wget https://raw.githubusercontent.com/abromberg/sentiment_analysis/master/AFINN/AFINN-111.txt\n",
    "d= {}\n",
    "\n",
    "for each_element in str(data).split(\"\\\\n\"):\n",
    "  d[each_element.split(\"\\\\t\")[0]] = each_element.split(\"\\\\t\")[1]"
   ]
  },
  {
   "cell_type": "code",
   "execution_count": 10,
   "metadata": {
    "colab": {
     "base_uri": "https://localhost:8080/",
     "height": 34
    },
    "colab_type": "code",
    "id": "PEeNdSVCMiU3",
    "outputId": "ae63979e-a288-45c6-cb16-43760fdd29c9"
   },
   "outputs": [
    {
     "data": {
      "text/plain": [
       "'-2'"
      ]
     },
     "execution_count": 10,
     "metadata": {},
     "output_type": "execute_result"
    }
   ],
   "source": [
    "d['abducted']"
   ]
  },
  {
   "cell_type": "code",
   "execution_count": 11,
   "metadata": {
    "colab": {
     "base_uri": "https://localhost:8080/",
     "height": 34
    },
    "colab_type": "code",
    "id": "_GbG6GpbXB5O",
    "outputId": "d1593c58-cfb6-4681-d7c2-e9f1a6267471"
   },
   "outputs": [
    {
     "data": {
      "text/plain": [
       "-2"
      ]
     },
     "execution_count": 11,
     "metadata": {},
     "output_type": "execute_result"
    }
   ],
   "source": [
    "int(d['accusing'])"
   ]
  },
  {
   "cell_type": "code",
   "execution_count": 12,
   "metadata": {
    "colab": {},
    "colab_type": "code",
    "id": "e89mXs25GcVa"
   },
   "outputs": [],
   "source": [
    "# 1) To refer to standard Dictionary of english and compute the total sum \n",
    "# use amazing textblob library and get the sentiment directly  - run the whole code as assignment \n",
    "# 2) you upload the calculated sentiment and work on that. "
   ]
  },
  {
   "cell_type": "code",
   "execution_count": 13,
   "metadata": {
    "colab": {},
    "colab_type": "code",
    "id": "11iw1fyPN10f"
   },
   "outputs": [],
   "source": [
    "import numpy as np\n",
    "def getSentiment(eachRow):\n",
    "  TotalSum = []\n",
    "  for eachWord in eachRow.split():\n",
    "    if eachWord.lower() in d:   # if it is found in the dictionary \n",
    "      TotalSum.append(int(d[eachWord.lower()]))\n",
    "    else:\n",
    "      TotalSum.append(0)\n",
    "  return np.sum(TotalSum)\n",
    "  # return TotalSum\n",
    "\n",
    "\n",
    "review_data_k_means['Sentiment'] = review_data_k_means['Review Text'].apply(getSentiment)"
   ]
  },
  {
   "cell_type": "code",
   "execution_count": 15,
   "metadata": {},
   "outputs": [
    {
     "name": "stdout",
     "output_type": "stream",
     "text": [
      "Collecting textblob\n",
      "\u001b[?25l  Downloading https://files.pythonhosted.org/packages/60/f0/1d9bfcc8ee6b83472ec571406bd0dd51c0e6330ff1a51b2d29861d389e85/textblob-0.15.3-py2.py3-none-any.whl (636kB)\n",
      "\u001b[K     |████████████████████████████████| 645kB 877kB/s eta 0:00:01\n",
      "\u001b[?25hRequirement already satisfied: nltk>=3.1 in /opt/anaconda3/lib/python3.7/site-packages (from textblob) (3.4.5)\n",
      "Requirement already satisfied: six in /opt/anaconda3/lib/python3.7/site-packages (from nltk>=3.1->textblob) (1.12.0)\n",
      "Installing collected packages: textblob\n",
      "Successfully installed textblob-0.15.3\n"
     ]
    }
   ],
   "source": [
    "!pip install textblob"
   ]
  },
  {
   "cell_type": "code",
   "execution_count": 16,
   "metadata": {
    "colab": {},
    "colab_type": "code",
    "id": "VqJZWNK_E6Bq"
   },
   "outputs": [],
   "source": [
    "from textblob import TextBlob\n",
    "\n",
    "def getSentimentTextBlob(eachRow):\n",
    "  return TextBlob(eachRow).sentiment.polarity\n",
    "\n",
    "review_data_k_means['Sentiment_textblob'] = review_data_k_means['Review Text'].apply(getSentimentTextBlob)"
   ]
  },
  {
   "cell_type": "code",
   "execution_count": 17,
   "metadata": {
    "colab": {
     "base_uri": "https://localhost:8080/",
     "height": 419
    },
    "colab_type": "code",
    "id": "HHOI8wtoPWME",
    "outputId": "cfd57b16-b247-4131-9cde-4766cc1970b9"
   },
   "outputs": [
    {
     "data": {
      "text/html": [
       "<div>\n",
       "<style scoped>\n",
       "    .dataframe tbody tr th:only-of-type {\n",
       "        vertical-align: middle;\n",
       "    }\n",
       "\n",
       "    .dataframe tbody tr th {\n",
       "        vertical-align: top;\n",
       "    }\n",
       "\n",
       "    .dataframe thead th {\n",
       "        text-align: right;\n",
       "    }\n",
       "</style>\n",
       "<table border=\"1\" class=\"dataframe\">\n",
       "  <thead>\n",
       "    <tr style=\"text-align: right;\">\n",
       "      <th></th>\n",
       "      <th>Review Text</th>\n",
       "      <th>Sentiment</th>\n",
       "      <th>Sentiment_textblob</th>\n",
       "    </tr>\n",
       "  </thead>\n",
       "  <tbody>\n",
       "    <tr>\n",
       "      <td>2</td>\n",
       "      <td>I had such high hopes for this dress and really wanted it to work for me. i initially ordered the petite small (my usual size) but i found this to be outrageously small. so small in fact that i co...</td>\n",
       "      <td>7</td>\n",
       "      <td>0.073675</td>\n",
       "    </tr>\n",
       "    <tr>\n",
       "      <td>3</td>\n",
       "      <td>I love, love, love this jumpsuit. it's fun, flirty, and fabulous! every time i wear it, i get nothing but great compliments!</td>\n",
       "      <td>6</td>\n",
       "      <td>0.550000</td>\n",
       "    </tr>\n",
       "    <tr>\n",
       "      <td>4</td>\n",
       "      <td>This shirt is very flattering to all due to the adjustable front tie. it is the perfect length to wear with leggings and it is sleeveless so it pairs well with any cardigan. love this shirt!!!</td>\n",
       "      <td>6</td>\n",
       "      <td>0.512891</td>\n",
       "    </tr>\n",
       "    <tr>\n",
       "      <td>5</td>\n",
       "      <td>I love tracy reese dresses, but this one is not for the very petite. i am just under 5 feet tall and usually wear a 0p in this brand. this dress was very pretty out of the package but its a lot of...</td>\n",
       "      <td>7</td>\n",
       "      <td>0.178750</td>\n",
       "    </tr>\n",
       "    <tr>\n",
       "      <td>6</td>\n",
       "      <td>I aded this in my basket at hte last mintue to see what it would look like in person. (store pick up). i went with teh darkler color only because i am so pale :-) hte color is really gorgeous, and...</td>\n",
       "      <td>1</td>\n",
       "      <td>0.133750</td>\n",
       "    </tr>\n",
       "    <tr>\n",
       "      <td>...</td>\n",
       "      <td>...</td>\n",
       "      <td>...</td>\n",
       "      <td>...</td>\n",
       "    </tr>\n",
       "    <tr>\n",
       "      <td>23481</td>\n",
       "      <td>I was very happy to snag this dress at such a great price! it's very easy to slip on and has a very flattering cut and color combo.</td>\n",
       "      <td>6</td>\n",
       "      <td>0.552667</td>\n",
       "    </tr>\n",
       "    <tr>\n",
       "      <td>23482</td>\n",
       "      <td>It reminds me of maternity clothes. soft, stretchy, shiny material. cut is flattering and drapes nicely. i only found one button to close front... looked awkward. nice long sleeves.\\nnot for me bu...</td>\n",
       "      <td>2</td>\n",
       "      <td>0.091667</td>\n",
       "    </tr>\n",
       "    <tr>\n",
       "      <td>23483</td>\n",
       "      <td>This fit well, but the top was very see through. this never would have worked for me. i'm glad i was able to try it on in the store and didn't order it online. with different fabric, it would have...</td>\n",
       "      <td>6</td>\n",
       "      <td>0.414286</td>\n",
       "    </tr>\n",
       "    <tr>\n",
       "      <td>23484</td>\n",
       "      <td>I bought this dress for a wedding i have this summer, and it's so cute. unfortunately the fit isn't perfect. the medium fits my waist perfectly, but was way too long and too big in the bust and sh...</td>\n",
       "      <td>6</td>\n",
       "      <td>0.322222</td>\n",
       "    </tr>\n",
       "    <tr>\n",
       "      <td>23485</td>\n",
       "      <td>This dress in a lovely platinum is feminine and fits perfectly, easy to wear and comfy, too! highly recommend!</td>\n",
       "      <td>4</td>\n",
       "      <td>0.413889</td>\n",
       "    </tr>\n",
       "  </tbody>\n",
       "</table>\n",
       "<p>19662 rows × 3 columns</p>\n",
       "</div>"
      ],
      "text/plain": [
       "                                                                                                                                                                                                   Review Text  \\\n",
       "2      I had such high hopes for this dress and really wanted it to work for me. i initially ordered the petite small (my usual size) but i found this to be outrageously small. so small in fact that i co...   \n",
       "3                                                                                 I love, love, love this jumpsuit. it's fun, flirty, and fabulous! every time i wear it, i get nothing but great compliments!   \n",
       "4             This shirt is very flattering to all due to the adjustable front tie. it is the perfect length to wear with leggings and it is sleeveless so it pairs well with any cardigan. love this shirt!!!   \n",
       "5      I love tracy reese dresses, but this one is not for the very petite. i am just under 5 feet tall and usually wear a 0p in this brand. this dress was very pretty out of the package but its a lot of...   \n",
       "6      I aded this in my basket at hte last mintue to see what it would look like in person. (store pick up). i went with teh darkler color only because i am so pale :-) hte color is really gorgeous, and...   \n",
       "...                                                                                                                                                                                                        ...   \n",
       "23481                                                                      I was very happy to snag this dress at such a great price! it's very easy to slip on and has a very flattering cut and color combo.   \n",
       "23482  It reminds me of maternity clothes. soft, stretchy, shiny material. cut is flattering and drapes nicely. i only found one button to close front... looked awkward. nice long sleeves.\\nnot for me bu...   \n",
       "23483  This fit well, but the top was very see through. this never would have worked for me. i'm glad i was able to try it on in the store and didn't order it online. with different fabric, it would have...   \n",
       "23484  I bought this dress for a wedding i have this summer, and it's so cute. unfortunately the fit isn't perfect. the medium fits my waist perfectly, but was way too long and too big in the bust and sh...   \n",
       "23485                                                                                           This dress in a lovely platinum is feminine and fits perfectly, easy to wear and comfy, too! highly recommend!   \n",
       "\n",
       "       Sentiment  Sentiment_textblob  \n",
       "2              7            0.073675  \n",
       "3              6            0.550000  \n",
       "4              6            0.512891  \n",
       "5              7            0.178750  \n",
       "6              1            0.133750  \n",
       "...          ...                 ...  \n",
       "23481          6            0.552667  \n",
       "23482          2            0.091667  \n",
       "23483          6            0.414286  \n",
       "23484          6            0.322222  \n",
       "23485          4            0.413889  \n",
       "\n",
       "[19662 rows x 3 columns]"
      ]
     },
     "execution_count": 17,
     "metadata": {},
     "output_type": "execute_result"
    }
   ],
   "source": [
    "# this is a vary Naive approch of caluclating Sentiment \n",
    "review_data_k_means[['Review Text','Sentiment','Sentiment_textblob']]"
   ]
  },
  {
   "cell_type": "code",
   "execution_count": 19,
   "metadata": {
    "_uuid": "6981363194e374f8b53c16a154053a2c002fd73f",
    "colab": {},
    "colab_type": "code",
    "id": "dZcehO7IGopv"
   },
   "outputs": [],
   "source": [
    "\n",
    "## adding the minimum value of sentiment score so as to remove negative sentiment scores\n",
    "\n",
    "# file : https://github.com/insaid2018/Term-3/blob/master/Data/CaseStudy/sent.txt\n",
    "import pickle\n",
    "\n",
    "with open(\"sent.txt\", \"rb\") as fp:   # Unpickling\n",
    "    b = pickle.load(fp)\n",
    "\n",
    "\n",
    "review_data_k_means['sent_score'] = b\n",
    "\n",
    "\n",
    "#min_sent = abs(np.min(review_data_k_means['sent_score']))\n",
    "# review_data_k_means['sent_score'] =  review_data_k_means['sent_score'] + abs(np.min(review_data_k_means['sent_score']))\n",
    "\n",
    "# review_data_k_means['sent_score'] =  review_data_k_means['sent_score'] + abs(np.min(review_data_k_means['sent_score']))\n",
    "\n"
   ]
  },
  {
   "cell_type": "code",
   "execution_count": 20,
   "metadata": {
    "colab": {},
    "colab_type": "code",
    "id": "bfWoAYdb4kyt"
   },
   "outputs": [],
   "source": [
    "review_data_k_means.drop('Review Text',axis=1,inplace=True)"
   ]
  },
  {
   "cell_type": "code",
   "execution_count": 21,
   "metadata": {
    "colab": {
     "base_uri": "https://localhost:8080/",
     "height": 204
    },
    "colab_type": "code",
    "id": "y1c_PH7NRlXM",
    "outputId": "5a24a362-47d4-4ca8-b04b-535e0b7ec5e0"
   },
   "outputs": [
    {
     "data": {
      "text/html": [
       "<div>\n",
       "<style scoped>\n",
       "    .dataframe tbody tr th:only-of-type {\n",
       "        vertical-align: middle;\n",
       "    }\n",
       "\n",
       "    .dataframe tbody tr th {\n",
       "        vertical-align: top;\n",
       "    }\n",
       "\n",
       "    .dataframe thead th {\n",
       "        text-align: right;\n",
       "    }\n",
       "</style>\n",
       "<table border=\"1\" class=\"dataframe\">\n",
       "  <thead>\n",
       "    <tr style=\"text-align: right;\">\n",
       "      <th></th>\n",
       "      <th>Age</th>\n",
       "      <th>Rating</th>\n",
       "      <th>Positive Feedback Count</th>\n",
       "      <th>Sentiment</th>\n",
       "      <th>Sentiment_textblob</th>\n",
       "      <th>sent_score</th>\n",
       "    </tr>\n",
       "  </thead>\n",
       "  <tbody>\n",
       "    <tr>\n",
       "      <td>2</td>\n",
       "      <td>60</td>\n",
       "      <td>3</td>\n",
       "      <td>0</td>\n",
       "      <td>7</td>\n",
       "      <td>0.073675</td>\n",
       "      <td>5.0</td>\n",
       "    </tr>\n",
       "    <tr>\n",
       "      <td>3</td>\n",
       "      <td>50</td>\n",
       "      <td>5</td>\n",
       "      <td>0</td>\n",
       "      <td>6</td>\n",
       "      <td>0.550000</td>\n",
       "      <td>22.0</td>\n",
       "    </tr>\n",
       "    <tr>\n",
       "      <td>4</td>\n",
       "      <td>47</td>\n",
       "      <td>5</td>\n",
       "      <td>6</td>\n",
       "      <td>6</td>\n",
       "      <td>0.512891</td>\n",
       "      <td>6.0</td>\n",
       "    </tr>\n",
       "    <tr>\n",
       "      <td>5</td>\n",
       "      <td>49</td>\n",
       "      <td>2</td>\n",
       "      <td>4</td>\n",
       "      <td>7</td>\n",
       "      <td>0.178750</td>\n",
       "      <td>7.0</td>\n",
       "    </tr>\n",
       "    <tr>\n",
       "      <td>6</td>\n",
       "      <td>39</td>\n",
       "      <td>5</td>\n",
       "      <td>1</td>\n",
       "      <td>1</td>\n",
       "      <td>0.133750</td>\n",
       "      <td>-3.0</td>\n",
       "    </tr>\n",
       "  </tbody>\n",
       "</table>\n",
       "</div>"
      ],
      "text/plain": [
       "   Age  Rating  Positive Feedback Count  Sentiment  Sentiment_textblob  \\\n",
       "2   60       3                        0          7            0.073675   \n",
       "3   50       5                        0          6            0.550000   \n",
       "4   47       5                        6          6            0.512891   \n",
       "5   49       2                        4          7            0.178750   \n",
       "6   39       5                        1          1            0.133750   \n",
       "\n",
       "   sent_score  \n",
       "2         5.0  \n",
       "3        22.0  \n",
       "4         6.0  \n",
       "5         7.0  \n",
       "6        -3.0  "
      ]
     },
     "execution_count": 21,
     "metadata": {},
     "output_type": "execute_result"
    }
   ],
   "source": [
    "review_data_k_means.head()"
   ]
  },
  {
   "cell_type": "code",
   "execution_count": 22,
   "metadata": {
    "colab": {},
    "colab_type": "code",
    "id": "YKjBr62H7NHL"
   },
   "outputs": [
    {
     "data": {
      "text/plain": [
       "array([[0.44186047],\n",
       "       [0.41860465],\n",
       "       [0.41860465],\n",
       "       ...,\n",
       "       [0.41860465],\n",
       "       [0.41860465],\n",
       "       [0.37209302]])"
      ]
     },
     "execution_count": 22,
     "metadata": {},
     "output_type": "execute_result"
    }
   ],
   "source": [
    "from sklearn import preprocessing\n",
    "min_max_scaler = preprocessing.MinMaxScaler()\n",
    "sent_scaled = min_max_scaler.fit_transform(review_data_k_means[['Sentiment']].values)\n",
    "#df_normalized = pd.DataFrame(x_scaled)\n",
    "sent_scaled\n",
    "review_data_k_means['Sentiment_Norm'] = sent_scaled"
   ]
  },
  {
   "cell_type": "code",
   "execution_count": 23,
   "metadata": {
    "colab": {
     "base_uri": "https://localhost:8080/",
     "height": 204
    },
    "colab_type": "code",
    "id": "VEASdUJP8DKf",
    "outputId": "e477de5e-c256-4912-fe68-8e3f2f57b5bf"
   },
   "outputs": [
    {
     "data": {
      "text/html": [
       "<div>\n",
       "<style scoped>\n",
       "    .dataframe tbody tr th:only-of-type {\n",
       "        vertical-align: middle;\n",
       "    }\n",
       "\n",
       "    .dataframe tbody tr th {\n",
       "        vertical-align: top;\n",
       "    }\n",
       "\n",
       "    .dataframe thead th {\n",
       "        text-align: right;\n",
       "    }\n",
       "</style>\n",
       "<table border=\"1\" class=\"dataframe\">\n",
       "  <thead>\n",
       "    <tr style=\"text-align: right;\">\n",
       "      <th></th>\n",
       "      <th>Age</th>\n",
       "      <th>Rating</th>\n",
       "      <th>Positive Feedback Count</th>\n",
       "      <th>Sentiment</th>\n",
       "      <th>Sentiment_textblob</th>\n",
       "      <th>sent_score</th>\n",
       "      <th>Sentiment_Norm</th>\n",
       "    </tr>\n",
       "  </thead>\n",
       "  <tbody>\n",
       "    <tr>\n",
       "      <td>2</td>\n",
       "      <td>60</td>\n",
       "      <td>3</td>\n",
       "      <td>0</td>\n",
       "      <td>7</td>\n",
       "      <td>0.073675</td>\n",
       "      <td>5.0</td>\n",
       "      <td>0.441860</td>\n",
       "    </tr>\n",
       "    <tr>\n",
       "      <td>3</td>\n",
       "      <td>50</td>\n",
       "      <td>5</td>\n",
       "      <td>0</td>\n",
       "      <td>6</td>\n",
       "      <td>0.550000</td>\n",
       "      <td>22.0</td>\n",
       "      <td>0.418605</td>\n",
       "    </tr>\n",
       "    <tr>\n",
       "      <td>4</td>\n",
       "      <td>47</td>\n",
       "      <td>5</td>\n",
       "      <td>6</td>\n",
       "      <td>6</td>\n",
       "      <td>0.512891</td>\n",
       "      <td>6.0</td>\n",
       "      <td>0.418605</td>\n",
       "    </tr>\n",
       "    <tr>\n",
       "      <td>5</td>\n",
       "      <td>49</td>\n",
       "      <td>2</td>\n",
       "      <td>4</td>\n",
       "      <td>7</td>\n",
       "      <td>0.178750</td>\n",
       "      <td>7.0</td>\n",
       "      <td>0.441860</td>\n",
       "    </tr>\n",
       "    <tr>\n",
       "      <td>6</td>\n",
       "      <td>39</td>\n",
       "      <td>5</td>\n",
       "      <td>1</td>\n",
       "      <td>1</td>\n",
       "      <td>0.133750</td>\n",
       "      <td>-3.0</td>\n",
       "      <td>0.302326</td>\n",
       "    </tr>\n",
       "  </tbody>\n",
       "</table>\n",
       "</div>"
      ],
      "text/plain": [
       "   Age  Rating  Positive Feedback Count  Sentiment  Sentiment_textblob  \\\n",
       "2   60       3                        0          7            0.073675   \n",
       "3   50       5                        0          6            0.550000   \n",
       "4   47       5                        6          6            0.512891   \n",
       "5   49       2                        4          7            0.178750   \n",
       "6   39       5                        1          1            0.133750   \n",
       "\n",
       "   sent_score  Sentiment_Norm  \n",
       "2         5.0        0.441860  \n",
       "3        22.0        0.418605  \n",
       "4         6.0        0.418605  \n",
       "5         7.0        0.441860  \n",
       "6        -3.0        0.302326  "
      ]
     },
     "execution_count": 23,
     "metadata": {},
     "output_type": "execute_result"
    }
   ],
   "source": [
    "review_data_k_means.head()"
   ]
  },
  {
   "cell_type": "code",
   "execution_count": 24,
   "metadata": {
    "colab": {},
    "colab_type": "code",
    "id": "z82flN-RJAvl"
   },
   "outputs": [],
   "source": [
    "review_data_k_means.drop('Sentiment',axis=1,inplace=True)\n",
    "review_data_k_means.drop('Sentiment_textblob',axis=1,inplace=True)\n",
    "review_data_k_means.drop('sent_score',axis=1,inplace=True)\n"
   ]
  },
  {
   "cell_type": "code",
   "execution_count": 25,
   "metadata": {
    "colab": {
     "base_uri": "https://localhost:8080/",
     "height": 204
    },
    "colab_type": "code",
    "id": "yZ8fy7NBJQkD",
    "outputId": "713d7f36-7269-47f4-ede1-d299a10e1193"
   },
   "outputs": [
    {
     "data": {
      "text/html": [
       "<div>\n",
       "<style scoped>\n",
       "    .dataframe tbody tr th:only-of-type {\n",
       "        vertical-align: middle;\n",
       "    }\n",
       "\n",
       "    .dataframe tbody tr th {\n",
       "        vertical-align: top;\n",
       "    }\n",
       "\n",
       "    .dataframe thead th {\n",
       "        text-align: right;\n",
       "    }\n",
       "</style>\n",
       "<table border=\"1\" class=\"dataframe\">\n",
       "  <thead>\n",
       "    <tr style=\"text-align: right;\">\n",
       "      <th></th>\n",
       "      <th>Age</th>\n",
       "      <th>Rating</th>\n",
       "      <th>Positive Feedback Count</th>\n",
       "      <th>Sentiment_Norm</th>\n",
       "    </tr>\n",
       "  </thead>\n",
       "  <tbody>\n",
       "    <tr>\n",
       "      <td>2</td>\n",
       "      <td>60</td>\n",
       "      <td>3</td>\n",
       "      <td>0</td>\n",
       "      <td>0.441860</td>\n",
       "    </tr>\n",
       "    <tr>\n",
       "      <td>3</td>\n",
       "      <td>50</td>\n",
       "      <td>5</td>\n",
       "      <td>0</td>\n",
       "      <td>0.418605</td>\n",
       "    </tr>\n",
       "    <tr>\n",
       "      <td>4</td>\n",
       "      <td>47</td>\n",
       "      <td>5</td>\n",
       "      <td>6</td>\n",
       "      <td>0.418605</td>\n",
       "    </tr>\n",
       "    <tr>\n",
       "      <td>5</td>\n",
       "      <td>49</td>\n",
       "      <td>2</td>\n",
       "      <td>4</td>\n",
       "      <td>0.441860</td>\n",
       "    </tr>\n",
       "    <tr>\n",
       "      <td>6</td>\n",
       "      <td>39</td>\n",
       "      <td>5</td>\n",
       "      <td>1</td>\n",
       "      <td>0.302326</td>\n",
       "    </tr>\n",
       "  </tbody>\n",
       "</table>\n",
       "</div>"
      ],
      "text/plain": [
       "   Age  Rating  Positive Feedback Count  Sentiment_Norm\n",
       "2   60       3                        0        0.441860\n",
       "3   50       5                        0        0.418605\n",
       "4   47       5                        6        0.418605\n",
       "5   49       2                        4        0.441860\n",
       "6   39       5                        1        0.302326"
      ]
     },
     "execution_count": 25,
     "metadata": {},
     "output_type": "execute_result"
    }
   ],
   "source": [
    "review_data_k_means.head()"
   ]
  },
  {
   "cell_type": "markdown",
   "metadata": {
    "_uuid": "f2165bc244bc926215ea38e0afdd60557347824b",
    "colab_type": "text",
    "id": "vCUIFJRlGopy"
   },
   "source": [
    "Before doing any further processing , we need to check how each of our variables are distributed."
   ]
  },
  {
   "cell_type": "code",
   "execution_count": 27,
   "metadata": {
    "_uuid": "3bce5075c71c4cc7c4003535e8ecbd789a5b41e2",
    "colab": {
     "base_uri": "https://localhost:8080/",
     "height": 1000
    },
    "colab_type": "code",
    "id": "4LB37pFOGopy",
    "outputId": "da6aa181-5822-49e6-d825-57902112f033"
   },
   "outputs": [
    {
     "data": {
      "text/plain": [
       "Text(0.5, 1.0, 'Distribution of Each Column in the Data')"
      ]
     },
     "execution_count": 27,
     "metadata": {},
     "output_type": "execute_result"
    },
    {
     "data": {
      "text/plain": [
       "<Figure size 432x288 with 0 Axes>"
      ]
     },
     "execution_count": 27,
     "metadata": {},
     "output_type": "execute_result"
    },
    {
     "data": {
      "text/plain": [
       "<matplotlib.axes._subplots.AxesSubplot at 0x1167e7910>"
      ]
     },
     "execution_count": 27,
     "metadata": {},
     "output_type": "execute_result"
    },
    {
     "data": {
      "image/png": "[encoded data removed]",
      "text/plain": [
       "<Figure size 432x288 with 1 Axes>"
      ]
     },
     "execution_count": 27,
     "metadata": {},
     "output_type": "execute_result"
    },
    {
     "data": {
      "text/plain": [
       "<matplotlib.axes._subplots.AxesSubplot at 0x1167fa450>"
      ]
     },
     "execution_count": 27,
     "metadata": {},
     "output_type": "execute_result"
    },
    {
     "data": {
      "text/plain": [
       "<Figure size 432x288 with 0 Axes>"
      ]
     },
     "execution_count": 27,
     "metadata": {},
     "output_type": "execute_result"
    },
    {
     "data": {
      "text/plain": [
       "<matplotlib.axes._subplots.AxesSubplot at 0x1167ba390>"
      ]
     },
     "execution_count": 27,
     "metadata": {},
     "output_type": "execute_result"
    },
    {
     "data": {
      "text/plain": [
       "<Figure size 432x288 with 0 Axes>"
      ]
     },
     "execution_count": 27,
     "metadata": {},
     "output_type": "execute_result"
    },
    {
     "data": {
      "text/plain": [
       "<matplotlib.axes._subplots.AxesSubplot at 0x116761dd0>"
      ]
     },
     "execution_count": 27,
     "metadata": {},
     "output_type": "execute_result"
    },
    {
     "data": {
      "image/png": "[encoded data removed]",
      "text/plain": [
       "<Figure size 432x288 with 1 Axes>"
      ]
     },
     "metadata": {},
     "output_type": "display_data"
    },
    {
     "data": {
      "image/png": "[encoded data removed]",
      "text/plain": [
       "<Figure size 432x288 with 1 Axes>"
      ]
     },
     "metadata": {},
     "output_type": "display_data"
    },
    {
     "data": {
      "image/png": "[encoded data removed]",
      "text/plain": [
       "<Figure size 432x288 with 1 Axes>"
      ]
     },
     "metadata": {},
     "output_type": "display_data"
    },
    {
     "data": {
      "image/png": "[encoded data removed]",
      "text/plain": [
       "<Figure size 432x288 with 1 Axes>"
      ]
     },
     "metadata": {},
     "output_type": "display_data"
    }
   ],
   "source": [
    "sns.set_style('darkgrid')\n",
    "plt.title('Distribution of Each Column in the Data')\n",
    "\n",
    "for i,col in enumerate(review_data_k_means.columns):\n",
    "    plt.figure(i)\n",
    "    sns.distplot(review_data_k_means[col])"
   ]
  },
  {
   "cell_type": "markdown",
   "metadata": {
    "_uuid": "2efdc692bfe1db3124541edab9bb53105743a297",
    "colab_type": "text",
    "id": "OJQ_qmtqGop1"
   },
   "source": [
    "* A majority of the variables are not normally distributed. K Means algorithm do not handle skewed distributions well. To transform each variable to a normal distrbution, we use the log transformation transformation. To ensure that all values are positive, we add 1 to all values."
   ]
  },
  {
   "cell_type": "code",
   "execution_count": 28,
   "metadata": {
    "_uuid": "2ec08646502e7db0169947058c1a137f7355eacf",
    "colab": {
     "base_uri": "https://localhost:8080/",
     "height": 1000
    },
    "colab_type": "code",
    "id": "w19efJS3Gop2",
    "outputId": "4428e559-8c4a-4770-bc53-6869a4d6098f"
   },
   "outputs": [
    {
     "data": {
      "text/plain": [
       "Text(0.5, 1.0, 'Distribution of Each Column in the Data')"
      ]
     },
     "execution_count": 28,
     "metadata": {},
     "output_type": "execute_result"
    },
    {
     "data": {
      "text/plain": [
       "<Figure size 432x288 with 0 Axes>"
      ]
     },
     "execution_count": 28,
     "metadata": {},
     "output_type": "execute_result"
    },
    {
     "data": {
      "text/plain": [
       "<matplotlib.axes._subplots.AxesSubplot at 0x10429b690>"
      ]
     },
     "execution_count": 28,
     "metadata": {},
     "output_type": "execute_result"
    },
    {
     "data": {
      "image/png": "[encoded data removed]",
      "text/plain": [
       "<Figure size 432x288 with 1 Axes>"
      ]
     },
     "execution_count": 28,
     "metadata": {},
     "output_type": "execute_result"
    },
    {
     "data": {
      "text/plain": [
       "<matplotlib.axes._subplots.AxesSubplot at 0x1042ad290>"
      ]
     },
     "execution_count": 28,
     "metadata": {},
     "output_type": "execute_result"
    },
    {
     "data": {
      "text/plain": [
       "<Figure size 432x288 with 0 Axes>"
      ]
     },
     "execution_count": 28,
     "metadata": {},
     "output_type": "execute_result"
    },
    {
     "data": {
      "text/plain": [
       "<matplotlib.axes._subplots.AxesSubplot at 0x116724d90>"
      ]
     },
     "execution_count": 28,
     "metadata": {},
     "output_type": "execute_result"
    },
    {
     "data": {
      "text/plain": [
       "<Figure size 432x288 with 0 Axes>"
      ]
     },
     "execution_count": 28,
     "metadata": {},
     "output_type": "execute_result"
    },
    {
     "data": {
      "text/plain": [
       "<matplotlib.axes._subplots.AxesSubplot at 0x11670a6d0>"
      ]
     },
     "execution_count": 28,
     "metadata": {},
     "output_type": "execute_result"
    },
    {
     "data": {
      "image/png": "[encoded data removed]",
      "text/plain": [
       "<Figure size 432x288 with 1 Axes>"
      ]
     },
     "metadata": {},
     "output_type": "display_data"
    },
    {
     "data": {
      "image/png": "[encoded data removed]",
      "text/plain": [
       "<Figure size 432x288 with 1 Axes>"
      ]
     },
     "metadata": {},
     "output_type": "display_data"
    },
    {
     "data": {
      "image/png": "[encoded data removed]",
      "text/plain": [
       "<Figure size 432x288 with 1 Axes>"
      ]
     },
     "metadata": {},
     "output_type": "display_data"
    },
    {
     "data": {
      "image/png": "[encoded data removed]",
      "text/plain": [
       "<Figure size 432x288 with 1 Axes>"
      ]
     },
     "metadata": {},
     "output_type": "display_data"
    }
   ],
   "source": [
    "# box cox transform can help with the skewed transformation\n",
    "from scipy.stats import boxcox\n",
    "tmp = review_data_k_means \n",
    "# adding one to each data variable to make it positive\n",
    "tmp = tmp+1\n",
    "for i in tmp.columns:\n",
    "    tmp[i]=np.log(tmp[i])\n",
    "# log modified data    \n",
    "review_data_mod = tmp\n",
    "# checking the distributions after transforming\n",
    "sns.set_style('darkgrid')\n",
    "plt.title('Distribution of Each Column in the Data')\n",
    "\n",
    "for i,col in enumerate(review_data_mod.columns):\n",
    "    plt.figure(i)\n",
    "    sns.distplot(review_data_mod[col])\n",
    "\n",
    "\n",
    "# just take age and sent score - the variables that display a nearly normal distribution\n",
    "\n",
    "#review_data_mod = review_data_mod[['Age','sent_score']]\n",
    "\n"
   ]
  },
  {
   "cell_type": "markdown",
   "metadata": {
    "_uuid": "eb19e952b5a7880dbaf12da554faa51a7a9b519f",
    "colab_type": "text",
    "id": "hXsp6m1fGop6"
   },
   "source": [
    "**After the log  transformation, the sent_score variable and Age variable seem to have a normal like distribution. We will drop the other variables.**\n",
    "\n",
    "*As each variable scales differently, it is essential to bring them to a common scale.\n",
    "We use z scaling here for this very purpose . The z score tells us how far each data point is from the mean in terms of standard deviations.*"
   ]
  },
  {
   "cell_type": "code",
   "execution_count": 29,
   "metadata": {
    "colab": {
     "base_uri": "https://localhost:8080/",
     "height": 419
    },
    "colab_type": "code",
    "id": "BSyKQgUkKp8N",
    "outputId": "1f521c2a-f53b-466c-8a2a-c933d32c4ce4"
   },
   "outputs": [
    {
     "data": {
      "text/html": [
       "<div>\n",
       "<style scoped>\n",
       "    .dataframe tbody tr th:only-of-type {\n",
       "        vertical-align: middle;\n",
       "    }\n",
       "\n",
       "    .dataframe tbody tr th {\n",
       "        vertical-align: top;\n",
       "    }\n",
       "\n",
       "    .dataframe thead th {\n",
       "        text-align: right;\n",
       "    }\n",
       "</style>\n",
       "<table border=\"1\" class=\"dataframe\">\n",
       "  <thead>\n",
       "    <tr style=\"text-align: right;\">\n",
       "      <th></th>\n",
       "      <th>Age</th>\n",
       "      <th>Rating</th>\n",
       "      <th>Positive Feedback Count</th>\n",
       "      <th>Sentiment_Norm</th>\n",
       "    </tr>\n",
       "  </thead>\n",
       "  <tbody>\n",
       "    <tr>\n",
       "      <td>2</td>\n",
       "      <td>4.110874</td>\n",
       "      <td>1.386294</td>\n",
       "      <td>0.000000</td>\n",
       "      <td>0.365934</td>\n",
       "    </tr>\n",
       "    <tr>\n",
       "      <td>3</td>\n",
       "      <td>3.931826</td>\n",
       "      <td>1.791759</td>\n",
       "      <td>0.000000</td>\n",
       "      <td>0.349674</td>\n",
       "    </tr>\n",
       "    <tr>\n",
       "      <td>4</td>\n",
       "      <td>3.871201</td>\n",
       "      <td>1.791759</td>\n",
       "      <td>1.945910</td>\n",
       "      <td>0.349674</td>\n",
       "    </tr>\n",
       "    <tr>\n",
       "      <td>5</td>\n",
       "      <td>3.912023</td>\n",
       "      <td>1.098612</td>\n",
       "      <td>1.609438</td>\n",
       "      <td>0.365934</td>\n",
       "    </tr>\n",
       "    <tr>\n",
       "      <td>6</td>\n",
       "      <td>3.688879</td>\n",
       "      <td>1.791759</td>\n",
       "      <td>0.693147</td>\n",
       "      <td>0.264152</td>\n",
       "    </tr>\n",
       "    <tr>\n",
       "      <td>...</td>\n",
       "      <td>...</td>\n",
       "      <td>...</td>\n",
       "      <td>...</td>\n",
       "      <td>...</td>\n",
       "    </tr>\n",
       "    <tr>\n",
       "      <td>23481</td>\n",
       "      <td>3.555348</td>\n",
       "      <td>1.791759</td>\n",
       "      <td>0.000000</td>\n",
       "      <td>0.349674</td>\n",
       "    </tr>\n",
       "    <tr>\n",
       "      <td>23482</td>\n",
       "      <td>3.891820</td>\n",
       "      <td>1.386294</td>\n",
       "      <td>0.000000</td>\n",
       "      <td>0.281851</td>\n",
       "    </tr>\n",
       "    <tr>\n",
       "      <td>23483</td>\n",
       "      <td>3.465736</td>\n",
       "      <td>1.386294</td>\n",
       "      <td>0.693147</td>\n",
       "      <td>0.349674</td>\n",
       "    </tr>\n",
       "    <tr>\n",
       "      <td>23484</td>\n",
       "      <td>3.367296</td>\n",
       "      <td>1.386294</td>\n",
       "      <td>1.098612</td>\n",
       "      <td>0.349674</td>\n",
       "    </tr>\n",
       "    <tr>\n",
       "      <td>23485</td>\n",
       "      <td>3.970292</td>\n",
       "      <td>1.791759</td>\n",
       "      <td>3.135494</td>\n",
       "      <td>0.316337</td>\n",
       "    </tr>\n",
       "  </tbody>\n",
       "</table>\n",
       "<p>19662 rows × 4 columns</p>\n",
       "</div>"
      ],
      "text/plain": [
       "            Age    Rating  Positive Feedback Count  Sentiment_Norm\n",
       "2      4.110874  1.386294                 0.000000        0.365934\n",
       "3      3.931826  1.791759                 0.000000        0.349674\n",
       "4      3.871201  1.791759                 1.945910        0.349674\n",
       "5      3.912023  1.098612                 1.609438        0.365934\n",
       "6      3.688879  1.791759                 0.693147        0.264152\n",
       "...         ...       ...                      ...             ...\n",
       "23481  3.555348  1.791759                 0.000000        0.349674\n",
       "23482  3.891820  1.386294                 0.000000        0.281851\n",
       "23483  3.465736  1.386294                 0.693147        0.349674\n",
       "23484  3.367296  1.386294                 1.098612        0.349674\n",
       "23485  3.970292  1.791759                 3.135494        0.316337\n",
       "\n",
       "[19662 rows x 4 columns]"
      ]
     },
     "execution_count": 29,
     "metadata": {},
     "output_type": "execute_result"
    }
   ],
   "source": [
    "review_data_mod"
   ]
  },
  {
   "cell_type": "code",
   "execution_count": 30,
   "metadata": {
    "_uuid": "4e004b13201ab535655988e098488d99319a3af8",
    "colab": {},
    "colab_type": "code",
    "id": "j1F1Oll5Gop7"
   },
   "outputs": [],
   "source": [
    "\n",
    "# review_data_mod = review_data_mod[['Age']]\n",
    "\n",
    "\n",
    "from scipy import stats\n",
    "review_data_std = stats.zscore(review_data_mod)\n",
    "review_data_std = np.array(review_data_std)\n",
    "\n"
   ]
  },
  {
   "cell_type": "code",
   "execution_count": 31,
   "metadata": {
    "colab": {},
    "colab_type": "code",
    "id": "Vi-GVeOcLEJz"
   },
   "outputs": [],
   "source": [
    "#While doing CLustering, make sure you have: \n",
    " # 1) All data as Numeric Cont\n",
    " # 2) Everything should be of same scale ; not column wise - but complete data wise. "
   ]
  },
  {
   "cell_type": "code",
   "execution_count": 32,
   "metadata": {
    "colab": {
     "base_uri": "https://localhost:8080/",
     "height": 136
    },
    "colab_type": "code",
    "id": "_1KDqzx6bBNX",
    "outputId": "c0fe01be-74b1-469c-bb2b-e8595afe8bcd"
   },
   "outputs": [
    {
     "data": {
      "text/plain": [
       "array([[ 1.28788845, -0.85018848, -0.86733188,  0.17701117],\n",
       "       [ 0.64583153,  0.65957533, -0.86733188, -0.04207132],\n",
       "       [ 0.42843503,  0.65957533,  1.30802241, -0.04207132],\n",
       "       ...,\n",
       "       [-1.02554011, -0.85018848, -0.09245505, -0.04207132],\n",
       "       [-1.37854069, -0.85018848,  0.36081884, -0.04207132],\n",
       "       [ 0.78376946,  0.65957533,  2.63787149, -0.49122212]])"
      ]
     },
     "execution_count": 32,
     "metadata": {},
     "output_type": "execute_result"
    }
   ],
   "source": [
    "review_data_std"
   ]
  },
  {
   "cell_type": "markdown",
   "metadata": {
    "_uuid": "e8e02e07f6e1b31789c97566a2464c70cc5954f0",
    "colab_type": "text",
    "id": "gsFBmV0wGop8"
   },
   "source": [
    "# Elbow Method\n",
    "After normalization, we need to choose the optimal number of clusters so as to get a good within cluster score.To achieve that we iterate through different K values and plot the total within cluster distances for each K value. We choose the K value that causes a sharp drop in total within cluster distance. This drop often resembles an \"Elbow\"."
   ]
  },
  {
   "cell_type": "code",
   "execution_count": 33,
   "metadata": {
    "colab": {},
    "colab_type": "code",
    "id": "b1b_k8h3NlA0"
   },
   "outputs": [],
   "source": [
    "# to get a good convergence of cluster in below example and to get proper elbow \n",
    "#1) take higher range ! 5, 150 \n",
    "# 2) do more iterations  ~ 5000 \n",
    "\n",
    "# Simplest approach will be to take just single column to do clusters ; try with both AGE & Sentiment_norm \n",
    "    # go back to zscore code and uncomment the single column selection "
   ]
  },
  {
   "cell_type": "code",
   "execution_count": 34,
   "metadata": {
    "_uuid": "13a0f0609f7c229d71f713bf3234defb9adaa22f",
    "colab": {
     "base_uri": "https://localhost:8080/",
     "height": 295
    },
    "colab_type": "code",
    "id": "Z6WygSBmGop9",
    "outputId": "7073c855-7286-42a6-fb63-cd8cd2fd1d84"
   },
   "outputs": [
    {
     "data": {
      "text/plain": [
       "[<matplotlib.lines.Line2D at 0x1167d77d0>]"
      ]
     },
     "execution_count": 34,
     "metadata": {},
     "output_type": "execute_result"
    },
    {
     "data": {
      "text/plain": [
       "Text(0.5, 0, 'Number of Clusters')"
      ]
     },
     "execution_count": 34,
     "metadata": {},
     "output_type": "execute_result"
    },
    {
     "data": {
      "text/plain": [
       "Text(0, 0.5, 'Score')"
      ]
     },
     "execution_count": 34,
     "metadata": {},
     "output_type": "execute_result"
    },
    {
     "data": {
      "text/plain": [
       "Text(0.5, 1.0, 'Elbow Curve')"
      ]
     },
     "execution_count": 34,
     "metadata": {},
     "output_type": "execute_result"
    },
    {
     "data": {
      "image/png": "[encoded data removed]",
      "text/plain": [
       "<Figure size 432x288 with 1 Axes>"
      ]
     },
     "metadata": {},
     "output_type": "display_data"
    }
   ],
   "source": [
    "# This snippet is sourced from https://www.kaggle.com/mariadobreva/k-means-clustering-in-python\n",
    "# also refer to https://stackoverflow.com/questions/32370543/understanding-score-returned-by-scikit-learn-kmeans/32371258\n",
    "import pylab as pl\n",
    "number_of_clusters = range(5,40)\n",
    "kmeans = [KMeans(n_clusters=i,max_iter=1000,random_state=42) for i in number_of_clusters]\n",
    "score = [-1*kmeans[i].fit(review_data_std).score(review_data_std) for i in range(len(kmeans))]\n",
    "pl.plot((number_of_clusters),score)\n",
    "pl.xlabel('Number of Clusters')\n",
    "pl.ylabel('Score')\n",
    "pl.title('Elbow Curve')\n",
    "pl.show()\n"
   ]
  },
  {
   "cell_type": "markdown",
   "metadata": {
    "_uuid": "014a859fabc917a29684446959cad883fc6db685",
    "colab_type": "text",
    "id": "dMa25fCGGoqA"
   },
   "source": [
    "Even though the \"elbow\" is located at $K=3$, we will use  $K=6$ for better explanation of the data."
   ]
  },
  {
   "cell_type": "markdown",
   "metadata": {
    "_uuid": "db027c83848561f70efbb93bf25e551a0df0e936",
    "colab": {},
    "colab_type": "code",
    "id": "bSBpqe6IGoqA"
   },
   "source": [
    "# within the cluster - dosn't include centroid-centroid dissstance\n",
    "\n",
    "c1 = Summation of all distance and centroid -  Within the cluster distance \n",
    "c 2 \n",
    "c3\n",
    "\n",
    "\n",
    "score = c1 +c2 + c3\n",
    "\n",
    "# when the clusters are good then the value of score will either be zero or close to zero \n",
    "#if the clusters are very bad , then you will get very high values including negative "
   ]
  },
  {
   "cell_type": "code",
   "execution_count": 36,
   "metadata": {
    "_uuid": "5b67075862bbeb012f14851122b370ee17e3dfa8",
    "colab": {},
    "colab_type": "code",
    "id": "kVU27Q_lGoqB"
   },
   "outputs": [],
   "source": [
    "k_means_test = KMeans(n_clusters=6,max_iter=5000,random_state=42)"
   ]
  },
  {
   "cell_type": "code",
   "execution_count": 37,
   "metadata": {
    "colab": {
     "base_uri": "https://localhost:8080/",
     "height": 34
    },
    "colab_type": "code",
    "id": "wVoJusCROoWr",
    "outputId": "97d78ef5-da13-4710-e22b-763f1c4688d6"
   },
   "outputs": [
    {
     "data": {
      "text/plain": [
       "-33629.96083774103"
      ]
     },
     "execution_count": 37,
     "metadata": {},
     "output_type": "execute_result"
    }
   ],
   "source": [
    "k_means_test.fit(review_data_std).score(review_data_std)"
   ]
  },
  {
   "cell_type": "code",
   "execution_count": 38,
   "metadata": {
    "colab": {
     "base_uri": "https://localhost:8080/",
     "height": 34
    },
    "colab_type": "code",
    "id": "Ip4avJo7TS3N",
    "outputId": "36216b95-d6ac-4ddd-aec2-c4c058ead8fd"
   },
   "outputs": [
    {
     "data": {
      "text/plain": [
       "array([3, 3, 2, ..., 1, 1, 2], dtype=int32)"
      ]
     },
     "execution_count": 38,
     "metadata": {},
     "output_type": "execute_result"
    }
   ],
   "source": [
    "k_means_test.labels_"
   ]
  },
  {
   "cell_type": "code",
   "execution_count": 39,
   "metadata": {
    "_uuid": "97f8485f50c311461581a62da19fd39d7d46ffe9",
    "colab": {},
    "colab_type": "code",
    "id": "8mUrvEJ0GoqE"
   },
   "outputs": [],
   "source": [
    "review_data_k_means['labels'] = k_means_test.labels_"
   ]
  },
  {
   "cell_type": "code",
   "execution_count": 40,
   "metadata": {
    "colab": {
     "base_uri": "https://localhost:8080/",
     "height": 204
    },
    "colab_type": "code",
    "id": "7nmGXLM8T90r",
    "outputId": "874bd758-3656-4bdd-d4e9-28b0525ab8cc"
   },
   "outputs": [
    {
     "data": {
      "text/html": [
       "<div>\n",
       "<style scoped>\n",
       "    .dataframe tbody tr th:only-of-type {\n",
       "        vertical-align: middle;\n",
       "    }\n",
       "\n",
       "    .dataframe tbody tr th {\n",
       "        vertical-align: top;\n",
       "    }\n",
       "\n",
       "    .dataframe thead th {\n",
       "        text-align: right;\n",
       "    }\n",
       "</style>\n",
       "<table border=\"1\" class=\"dataframe\">\n",
       "  <thead>\n",
       "    <tr style=\"text-align: right;\">\n",
       "      <th></th>\n",
       "      <th>Age</th>\n",
       "      <th>Rating</th>\n",
       "      <th>Positive Feedback Count</th>\n",
       "      <th>Sentiment_Norm</th>\n",
       "      <th>labels</th>\n",
       "    </tr>\n",
       "  </thead>\n",
       "  <tbody>\n",
       "    <tr>\n",
       "      <td>2</td>\n",
       "      <td>60</td>\n",
       "      <td>3</td>\n",
       "      <td>0</td>\n",
       "      <td>0.441860</td>\n",
       "      <td>3</td>\n",
       "    </tr>\n",
       "    <tr>\n",
       "      <td>3</td>\n",
       "      <td>50</td>\n",
       "      <td>5</td>\n",
       "      <td>0</td>\n",
       "      <td>0.418605</td>\n",
       "      <td>3</td>\n",
       "    </tr>\n",
       "    <tr>\n",
       "      <td>4</td>\n",
       "      <td>47</td>\n",
       "      <td>5</td>\n",
       "      <td>6</td>\n",
       "      <td>0.418605</td>\n",
       "      <td>2</td>\n",
       "    </tr>\n",
       "    <tr>\n",
       "      <td>5</td>\n",
       "      <td>49</td>\n",
       "      <td>2</td>\n",
       "      <td>4</td>\n",
       "      <td>0.441860</td>\n",
       "      <td>0</td>\n",
       "    </tr>\n",
       "    <tr>\n",
       "      <td>6</td>\n",
       "      <td>39</td>\n",
       "      <td>5</td>\n",
       "      <td>1</td>\n",
       "      <td>0.302326</td>\n",
       "      <td>5</td>\n",
       "    </tr>\n",
       "  </tbody>\n",
       "</table>\n",
       "</div>"
      ],
      "text/plain": [
       "   Age  Rating  Positive Feedback Count  Sentiment_Norm  labels\n",
       "2   60       3                        0        0.441860       3\n",
       "3   50       5                        0        0.418605       3\n",
       "4   47       5                        6        0.418605       2\n",
       "5   49       2                        4        0.441860       0\n",
       "6   39       5                        1        0.302326       5"
      ]
     },
     "execution_count": 40,
     "metadata": {},
     "output_type": "execute_result"
    }
   ],
   "source": [
    "review_data_k_means.head()"
   ]
  },
  {
   "cell_type": "code",
   "execution_count": 41,
   "metadata": {
    "_uuid": "dd9289ba5fb3aab552b3cae92d75bfe6ce319744",
    "colab": {
     "base_uri": "https://localhost:8080/",
     "height": 136
    },
    "colab_type": "code",
    "id": "Xs4OIggJGoqG",
    "outputId": "8597551c-1211-4dd7-b81c-5dd663a4e50a"
   },
   "outputs": [
    {
     "name": "stdout",
     "output_type": "stream",
     "text": [
      "   labels  number_of_points  percentage\n",
      "0       0              1942    0.098769\n",
      "1       1              3749    0.190672\n",
      "2       2              3157    0.160564\n",
      "3       3              4531    0.230445\n",
      "4       4              2616    0.133049\n",
      "5       5              3667    0.186502\n"
     ]
    }
   ],
   "source": [
    "size_of_each_cluster = review_data_k_means.groupby('labels').size().reset_index()\n",
    "size_of_each_cluster.columns = ['labels','number_of_points']\n",
    "size_of_each_cluster['percentage'] = size_of_each_cluster['number_of_points']/np.sum(size_of_each_cluster['number_of_points'])\n",
    "\n",
    "print(size_of_each_cluster)"
   ]
  },
  {
   "cell_type": "markdown",
   "metadata": {
    "_uuid": "9d9e61d63ae6e8cebab82560eafba0ffed7dbcf3",
    "colab_type": "text",
    "id": "GGmIaJ3BGoqL"
   },
   "source": [
    "* Label 0 has 17% of the the points. The rest of the labels have nearly equal percentage of data points.\n"
   ]
  },
  {
   "cell_type": "markdown",
   "metadata": {
    "_uuid": "ea7a3fb8eff4e5a9704259892c0a1ce3d765c30d",
    "colab_type": "text",
    "id": "RrvcIzgsGoqM"
   },
   "source": [
    "# Making sense of each cluster\n",
    "To make sense of each cluster, we plot a grouped scatter chart with Age and sentiment score variables."
   ]
  },
  {
   "cell_type": "code",
   "execution_count": 42,
   "metadata": {
    "_uuid": "2a1d4679d2f54b232685ac88c82194d545260203",
    "colab": {},
    "colab_type": "code",
    "id": "DlYS1MDeGoqM"
   },
   "outputs": [],
   "source": [
    "# a look at Age and Sentiment Scores\n",
    "# we subtract the added absolute value of the minimum sentiment score\n",
    "# review_data_k_means['sent_score'] = review_data_k_means['sent_score'] - min_sent\n",
    "# sns.lmplot('Age','sent_score',data=review_data_k_means,hue='labels',fit_reg=False)\n",
    "# plt.show()"
   ]
  },
  {
   "cell_type": "code",
   "execution_count": 43,
   "metadata": {
    "colab": {
     "base_uri": "https://localhost:8080/",
     "height": 419
    },
    "colab_type": "code",
    "id": "IpF3LdwMXquW",
    "outputId": "062e1e6d-1341-4f82-aa0a-311772e07b01"
   },
   "outputs": [
    {
     "data": {
      "text/html": [
       "<div>\n",
       "<style scoped>\n",
       "    .dataframe tbody tr th:only-of-type {\n",
       "        vertical-align: middle;\n",
       "    }\n",
       "\n",
       "    .dataframe tbody tr th {\n",
       "        vertical-align: top;\n",
       "    }\n",
       "\n",
       "    .dataframe thead th {\n",
       "        text-align: right;\n",
       "    }\n",
       "</style>\n",
       "<table border=\"1\" class=\"dataframe\">\n",
       "  <thead>\n",
       "    <tr style=\"text-align: right;\">\n",
       "      <th></th>\n",
       "      <th>Age</th>\n",
       "      <th>Rating</th>\n",
       "      <th>Positive Feedback Count</th>\n",
       "      <th>Sentiment_Norm</th>\n",
       "      <th>labels</th>\n",
       "    </tr>\n",
       "  </thead>\n",
       "  <tbody>\n",
       "    <tr>\n",
       "      <td>2</td>\n",
       "      <td>60</td>\n",
       "      <td>3</td>\n",
       "      <td>0</td>\n",
       "      <td>0.441860</td>\n",
       "      <td>3</td>\n",
       "    </tr>\n",
       "    <tr>\n",
       "      <td>3</td>\n",
       "      <td>50</td>\n",
       "      <td>5</td>\n",
       "      <td>0</td>\n",
       "      <td>0.418605</td>\n",
       "      <td>3</td>\n",
       "    </tr>\n",
       "    <tr>\n",
       "      <td>4</td>\n",
       "      <td>47</td>\n",
       "      <td>5</td>\n",
       "      <td>6</td>\n",
       "      <td>0.418605</td>\n",
       "      <td>2</td>\n",
       "    </tr>\n",
       "    <tr>\n",
       "      <td>5</td>\n",
       "      <td>49</td>\n",
       "      <td>2</td>\n",
       "      <td>4</td>\n",
       "      <td>0.441860</td>\n",
       "      <td>0</td>\n",
       "    </tr>\n",
       "    <tr>\n",
       "      <td>6</td>\n",
       "      <td>39</td>\n",
       "      <td>5</td>\n",
       "      <td>1</td>\n",
       "      <td>0.302326</td>\n",
       "      <td>5</td>\n",
       "    </tr>\n",
       "    <tr>\n",
       "      <td>...</td>\n",
       "      <td>...</td>\n",
       "      <td>...</td>\n",
       "      <td>...</td>\n",
       "      <td>...</td>\n",
       "      <td>...</td>\n",
       "    </tr>\n",
       "    <tr>\n",
       "      <td>23481</td>\n",
       "      <td>34</td>\n",
       "      <td>5</td>\n",
       "      <td>0</td>\n",
       "      <td>0.418605</td>\n",
       "      <td>1</td>\n",
       "    </tr>\n",
       "    <tr>\n",
       "      <td>23482</td>\n",
       "      <td>48</td>\n",
       "      <td>3</td>\n",
       "      <td>0</td>\n",
       "      <td>0.325581</td>\n",
       "      <td>3</td>\n",
       "    </tr>\n",
       "    <tr>\n",
       "      <td>23483</td>\n",
       "      <td>31</td>\n",
       "      <td>3</td>\n",
       "      <td>1</td>\n",
       "      <td>0.418605</td>\n",
       "      <td>1</td>\n",
       "    </tr>\n",
       "    <tr>\n",
       "      <td>23484</td>\n",
       "      <td>28</td>\n",
       "      <td>3</td>\n",
       "      <td>2</td>\n",
       "      <td>0.418605</td>\n",
       "      <td>1</td>\n",
       "    </tr>\n",
       "    <tr>\n",
       "      <td>23485</td>\n",
       "      <td>52</td>\n",
       "      <td>5</td>\n",
       "      <td>22</td>\n",
       "      <td>0.372093</td>\n",
       "      <td>2</td>\n",
       "    </tr>\n",
       "  </tbody>\n",
       "</table>\n",
       "<p>19662 rows × 5 columns</p>\n",
       "</div>"
      ],
      "text/plain": [
       "       Age  Rating  Positive Feedback Count  Sentiment_Norm  labels\n",
       "2       60       3                        0        0.441860       3\n",
       "3       50       5                        0        0.418605       3\n",
       "4       47       5                        6        0.418605       2\n",
       "5       49       2                        4        0.441860       0\n",
       "6       39       5                        1        0.302326       5\n",
       "...    ...     ...                      ...             ...     ...\n",
       "23481   34       5                        0        0.418605       1\n",
       "23482   48       3                        0        0.325581       3\n",
       "23483   31       3                        1        0.418605       1\n",
       "23484   28       3                        2        0.418605       1\n",
       "23485   52       5                       22        0.372093       2\n",
       "\n",
       "[19662 rows x 5 columns]"
      ]
     },
     "execution_count": 43,
     "metadata": {},
     "output_type": "execute_result"
    }
   ],
   "source": [
    "review_data_k_means"
   ]
  },
  {
   "cell_type": "code",
   "execution_count": 44,
   "metadata": {
    "colab": {
     "base_uri": "https://localhost:8080/",
     "height": 369
    },
    "colab_type": "code",
    "id": "iaK6WA_j_enJ",
    "outputId": "4c7ad20c-281f-4e47-d011-2ad9a357a29c"
   },
   "outputs": [
    {
     "data": {
      "text/plain": [
       "<seaborn.axisgrid.FacetGrid at 0x1042507d0>"
      ]
     },
     "execution_count": 44,
     "metadata": {},
     "output_type": "execute_result"
    },
    {
     "data": {
      "image/png": "[encoded data removed]",
      "text/plain": [
       "<Figure size 405.85x360 with 1 Axes>"
      ]
     },
     "metadata": {},
     "output_type": "display_data"
    }
   ],
   "source": [
    "\n",
    "sns.lmplot('Age','Sentiment_Norm',data=review_data_k_means,hue='labels',fit_reg=False)\n",
    "plt.show()"
   ]
  },
  {
   "cell_type": "code",
   "execution_count": 45,
   "metadata": {
    "colab": {},
    "colab_type": "code",
    "id": "kDHqWZauU0sp"
   },
   "outputs": [],
   "source": [
    "# Sentiment_Norm -> 0 - 1. ; 1 is very postive , 0.5 - neutral & 0 - very negative \n",
    "# Cluster 0 - looks like young folks who are mostly giving neutral and positive reviews \n",
    "# CLuster 1 - These are senior folks who are moslty neutral with some of them giving negative \n",
    "# Cluster 2 - This is a very confusing cluster ; Mostly middle aged people ; inclined towards neagtive comments \n",
    "# Cluster 3 - This are all the people are mostly neutral. they don't have any constructuve feedback \n",
    "# CLuster 4 - 20-50 Middle Age folks who are mild negative, mostly neutral \n",
    "# Cluster 5  - These are folks who are mostly postive and above 30 with mild neutral "
   ]
  },
  {
   "cell_type": "code",
   "execution_count": 46,
   "metadata": {
    "colab": {
     "base_uri": "https://localhost:8080/",
     "height": 369
    },
    "colab_type": "code",
    "id": "qSfaJloEYKVE",
    "outputId": "c70c18a5-93fe-4bc6-962b-2772282a9ada"
   },
   "outputs": [
    {
     "data": {
      "text/plain": [
       "<seaborn.axisgrid.FacetGrid at 0x104261410>"
      ]
     },
     "execution_count": 46,
     "metadata": {},
     "output_type": "execute_result"
    },
    {
     "data": {
      "image/png": "[encoded data removed]",
      "text/plain": [
       "<Figure size 405.85x360 with 1 Axes>"
      ]
     },
     "metadata": {},
     "output_type": "display_data"
    }
   ],
   "source": [
    "sns.lmplot('Rating','Sentiment_Norm',data=review_data_k_means,hue='labels',fit_reg=False)\n",
    "plt.show()"
   ]
  },
  {
   "cell_type": "code",
   "execution_count": 47,
   "metadata": {
    "colab": {},
    "colab_type": "code",
    "id": "UEqcPD_QYN8u"
   },
   "outputs": [],
   "source": [
    "# Get the department and Product information from main dataset and then see your clusters from that POV"
   ]
  },
  {
   "cell_type": "code",
   "execution_count": 48,
   "metadata": {
    "_uuid": "79f4d699ebe82e049176c0f2137e847ae27bc6e2",
    "colab": {
     "base_uri": "https://localhost:8080/",
     "height": 1000
    },
    "colab_type": "code",
    "id": "dq3Ne8APGoqR",
    "outputId": "cacd6bf0-657e-4a0f-8763-5c8d2641a46e"
   },
   "outputs": [
    {
     "data": {
      "text/plain": [
       "<matplotlib.axes._subplots.AxesSubplot at 0x104207250>"
      ]
     },
     "execution_count": 48,
     "metadata": {},
     "output_type": "execute_result"
    },
    {
     "data": {
      "text/plain": [
       "(array([1, 2, 3, 4, 5, 6]), <a list of 6 Text xticklabel objects>)"
      ]
     },
     "execution_count": 48,
     "metadata": {},
     "output_type": "execute_result"
    },
    {
     "data": {
      "image/png": "[encoded data removed]",
      "text/plain": [
       "<Figure size 1440x720 with 1 Axes>"
      ]
     },
     "metadata": {},
     "output_type": "display_data"
    },
    {
     "data": {
      "text/plain": [
       "<matplotlib.axes._subplots.AxesSubplot at 0x1041c5690>"
      ]
     },
     "execution_count": 48,
     "metadata": {},
     "output_type": "execute_result"
    },
    {
     "data": {
      "text/plain": [
       "(array([1, 2, 3, 4, 5, 6]), <a list of 6 Text xticklabel objects>)"
      ]
     },
     "execution_count": 48,
     "metadata": {},
     "output_type": "execute_result"
    },
    {
     "data": {
      "image/png": "[encoded data removed]",
      "text/plain": [
       "<Figure size 1440x720 with 1 Axes>"
      ]
     },
     "metadata": {},
     "output_type": "display_data"
    }
   ],
   "source": [
    "sent_score_labels = review_data_k_means[['Sentiment_Norm','labels']]\n",
    "\n",
    "sent_score_labels.boxplot(by='labels',figsize=(20,10))\n",
    "plt.xticks(rotation=90)\n",
    "plt.show()\n",
    "\n",
    "\n",
    "age_labels = review_data_k_means[['labels','Age']]\n",
    "\n",
    "age_labels.boxplot(by='labels',figsize=(20,10))\n",
    "plt.xticks(rotation=90)\n",
    "plt.show()\n"
   ]
  },
  {
   "cell_type": "markdown",
   "metadata": {
    "_uuid": "817328b288e4ce5aaaa2dd0e9ac2da76077a15e8",
    "colab_type": "text",
    "id": "T0jwOkN4GoqV"
   },
   "source": [
    "From the above box plots we get the following observations.\n",
    "\n",
    "\n",
    "**Labels**\n",
    "* Label 0 : Middle Age consumers consumer with fairly positive sentiments\n",
    "* Label 1 : Middle age consumers with relatively negative reviews\n",
    "* Label 2 : Older consumers who has had fairly positive reviews\n",
    "* Label 3 : Older  consumers who had positive reviews\n",
    "* Label 4 : Younger consumers who had faily positive reviews.\n",
    "* Label 5 : Fairly young consumer with positive reviews."
   ]
  },
  {
   "cell_type": "code",
   "execution_count": null,
   "metadata": {},
   "outputs": [],
   "source": []
  }
 ],
 "metadata": {
  "colab": {
   "collapsed_sections": [
    "sDpM5M66Goo0",
    "qX6-8_o6Goo2",
    "yK293R4vGoo3",
    "cXEFixgwGoo5",
    "8gjRk_9JGoo_",
    "AxI2xzBEGopM",
    "GK-5XF9gGopO",
    "KQtWJbFsGopS",
    "ADDqLkV4GopU"
   ],
   "name": "K-Means (1).ipynb",
   "provenance": []
  },
  "kernelspec": {
   "display_name": "Python 3",
   "language": "python",
   "name": "python3"
  },
  "language_info": {
   "codemirror_mode": {
    "name": "ipython",
    "version": 3
   },
   "file_extension": ".py",
   "mimetype": "text/x-python",
   "name": "python",
   "nbconvert_exporter": "python",
   "pygments_lexer": "ipython3",
   "version": "3.7.4"
  }
 },
 "nbformat": 4,
 "nbformat_minor": 1
}
